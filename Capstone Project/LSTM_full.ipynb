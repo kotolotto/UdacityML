{
 "cells": [
  {
   "cell_type": "code",
   "execution_count": 1,
   "metadata": {
    "collapsed": false
   },
   "outputs": [
    {
     "name": "stderr",
     "output_type": "stream",
     "text": [
      "Using TensorFlow backend.\n"
     ]
    }
   ],
   "source": [
    "import numpy as np \n",
    "import pandas as pd \n",
    "import csv\n",
    "import datetime\n",
    "from sklearn.metrics import mean_squared_error\n",
    "from sklearn.preprocessing import MinMaxScaler\n",
    "import random\n",
    "import matplotlib.pyplot as plt\n",
    "#import mylibs11 as l11\n",
    "\n",
    "\n",
    "from keras.models import Sequential\n",
    "from keras.layers import Dense, Dropout, LSTM, Activation\n",
    "from keras.callbacks import ModelCheckpoint  \n",
    "\n",
    "\n",
    "\n",
    "\n",
    "%matplotlib inline"
   ]
  },
  {
   "cell_type": "code",
   "execution_count": 2,
   "metadata": {
    "collapsed": true
   },
   "outputs": [],
   "source": [
    "np.random.seed(42)"
   ]
  },
  {
   "cell_type": "markdown",
   "metadata": {},
   "source": [
    "# LOAD PREPARED DATASET"
   ]
  },
  {
   "cell_type": "code",
   "execution_count": 3,
   "metadata": {
    "collapsed": true
   },
   "outputs": [],
   "source": [
    "btc_data = pd.read_csv('BTC_DATA_fin.csv', index_col=0)\n",
    "btc_data.index = pd.to_datetime(btc_data.index)"
   ]
  },
  {
   "cell_type": "markdown",
   "metadata": {},
   "source": [
    "# TRAIN TEST SPLIT"
   ]
  },
  {
   "cell_type": "code",
   "execution_count": 4,
   "metadata": {
    "collapsed": true
   },
   "outputs": [],
   "source": [
    "#shift data\n",
    "features = btc_data.shift(1).dropna() #.drop('BTC_Close', 1)\n",
    "target = btc_data['BTC_Close'][1:]\n",
    "prediction_days = 90"
   ]
  },
  {
   "cell_type": "code",
   "execution_count": 5,
   "metadata": {
    "collapsed": true
   },
   "outputs": [],
   "source": [
    "features_train = features[:len(features)-prediction_days]\n",
    "features_test = features[len(features)-prediction_days:]\n",
    "\n",
    "target_train = target[:len(features)-prediction_days]\n",
    "target_test = target[len(features)-prediction_days:]"
   ]
  },
  {
   "cell_type": "markdown",
   "metadata": {},
   "source": [
    "# NORMALIZATION"
   ]
  },
  {
   "cell_type": "code",
   "execution_count": 6,
   "metadata": {
    "collapsed": true
   },
   "outputs": [],
   "source": [
    "X_min_max_scaler = MinMaxScaler()\n",
    "y_min_max_scaler = MinMaxScaler()\n",
    "features_train_scaled = pd.DataFrame(X_min_max_scaler.fit_transform(features_train), \n",
    "                                     columns=features_train.columns, index=features_train.index)\n",
    "features_test_scaled = pd.DataFrame(X_min_max_scaler.transform(features_test),\n",
    "                                    columns=features_test.columns,index=features_test.index)\n",
    "target_train_scaled = y_min_max_scaler.fit_transform(target_train.values.reshape(-1, 1))\n",
    "target_test_scaled = y_min_max_scaler.transform(target_test.values.reshape(-1, 1))"
   ]
  },
  {
   "cell_type": "markdown",
   "metadata": {},
   "source": [
    "# Univariate LSTM Models"
   ]
  },
  {
   "cell_type": "markdown",
   "metadata": {},
   "source": [
    "## Vanilla LSTM"
   ]
  },
  {
   "cell_type": "code",
   "execution_count": 7,
   "metadata": {
    "collapsed": true
   },
   "outputs": [],
   "source": [
    "X = features_train_scaled.values"
   ]
  },
  {
   "cell_type": "code",
   "execution_count": 8,
   "metadata": {
    "collapsed": true
   },
   "outputs": [],
   "source": [
    "X_test = features_test_scaled.values"
   ]
  },
  {
   "cell_type": "code",
   "execution_count": 9,
   "metadata": {
    "collapsed": true
   },
   "outputs": [],
   "source": [
    "#rescale to 1d\n",
    "y = target_train_scaled.ravel()\n",
    "y_test = target_test_scaled.ravel()"
   ]
  },
  {
   "cell_type": "code",
   "execution_count": 11,
   "metadata": {
    "collapsed": true
   },
   "outputs": [],
   "source": [
    "n_features = 1 #unvariate so we predict 1\n",
    "X = X.reshape((X.shape[0], X.shape[1], n_features))"
   ]
  },
  {
   "cell_type": "code",
   "execution_count": 12,
   "metadata": {
    "collapsed": true
   },
   "outputs": [],
   "source": [
    "X_test = X_test.reshape((X_test.shape[0], X_test.shape[1], n_features))"
   ]
  },
  {
   "cell_type": "code",
   "execution_count": 13,
   "metadata": {
    "collapsed": false
   },
   "outputs": [
    {
     "data": {
      "text/plain": [
       "(1946, 29, 1)"
      ]
     },
     "execution_count": 13,
     "metadata": {},
     "output_type": "execute_result"
    }
   ],
   "source": [
    "X.shape"
   ]
  },
  {
   "cell_type": "code",
   "execution_count": 17,
   "metadata": {
    "collapsed": true
   },
   "outputs": [],
   "source": [
    "# define model \n",
    "model = Sequential() \n",
    "model.add(LSTM(64, activation='relu', input_shape=(X.shape[1], n_features))) \n",
    "model.add(Dense(1)) \n",
    "model.compile(optimizer='adam', loss='mse')"
   ]
  },
  {
   "cell_type": "code",
   "execution_count": 18,
   "metadata": {
    "collapsed": false
   },
   "outputs": [
    {
     "name": "stdout",
     "output_type": "stream",
     "text": [
      "_________________________________________________________________\n",
      "Layer (type)                 Output Shape              Param #   \n",
      "=================================================================\n",
      "lstm_2 (LSTM)                (None, 64)                16896     \n",
      "_________________________________________________________________\n",
      "dense_2 (Dense)              (None, 1)                 65        \n",
      "=================================================================\n",
      "Total params: 16,961\n",
      "Trainable params: 16,961\n",
      "Non-trainable params: 0\n",
      "_________________________________________________________________\n"
     ]
    }
   ],
   "source": [
    "model.summary()"
   ]
  },
  {
   "cell_type": "code",
   "execution_count": 19,
   "metadata": {
    "collapsed": false
   },
   "outputs": [
    {
     "name": "stdout",
     "output_type": "stream",
     "text": [
      "Train on 1751 samples, validate on 195 samples\n",
      "Epoch 1/50\n",
      "1751/1751 [==============================] - 4s 2ms/step - loss: 0.0224 - val_loss: 0.0808\n",
      "Epoch 2/50\n",
      "1751/1751 [==============================] - 3s 2ms/step - loss: 0.0075 - val_loss: 0.0094\n",
      "Epoch 3/50\n",
      "1751/1751 [==============================] - 3s 2ms/step - loss: 0.0169 - val_loss: 0.0599\n",
      "Epoch 4/50\n",
      "1751/1751 [==============================] - 3s 2ms/step - loss: 0.0119 - val_loss: 0.0208\n",
      "Epoch 5/50\n",
      "1751/1751 [==============================] - 3s 2ms/step - loss: 0.0094 - val_loss: 0.0334\n",
      "Epoch 6/50\n",
      "1751/1751 [==============================] - 3s 2ms/step - loss: 0.0062 - val_loss: 0.0293\n",
      "Epoch 7/50\n",
      "1751/1751 [==============================] - 3s 2ms/step - loss: 0.0041 - val_loss: 0.0119\n",
      "Epoch 8/50\n",
      "1751/1751 [==============================] - 3s 1ms/step - loss: 0.0032 - val_loss: 0.0096\n",
      "Epoch 9/50\n",
      "1751/1751 [==============================] - 3s 2ms/step - loss: 0.0027 - val_loss: 0.0073\n",
      "Epoch 10/50\n",
      "1751/1751 [==============================] - 3s 2ms/step - loss: 0.0021 - val_loss: 0.0055\n",
      "Epoch 11/50\n",
      "1751/1751 [==============================] - 3s 1ms/step - loss: 0.0018 - val_loss: 0.0051\n",
      "Epoch 12/50\n",
      "1751/1751 [==============================] - 3s 1ms/step - loss: 0.0014 - val_loss: 0.0048\n",
      "Epoch 13/50\n",
      "1751/1751 [==============================] - 3s 2ms/step - loss: 0.0013 - val_loss: 0.0057\n",
      "Epoch 14/50\n",
      "1751/1751 [==============================] - 3s 2ms/step - loss: 0.0012 - val_loss: 0.0052\n",
      "Epoch 15/50\n",
      "1751/1751 [==============================] - 3s 2ms/step - loss: 0.0011 - val_loss: 0.0053\n",
      "Epoch 16/50\n",
      "1751/1751 [==============================] - 3s 2ms/step - loss: 0.0010 - val_loss: 0.0062\n",
      "Epoch 17/50\n",
      "1751/1751 [==============================] - 3s 2ms/step - loss: 9.7533e-04 - val_loss: 0.0073\n",
      "Epoch 18/50\n",
      "1751/1751 [==============================] - 3s 2ms/step - loss: 9.9121e-04 - val_loss: 0.0053\n",
      "Epoch 19/50\n",
      "1751/1751 [==============================] - 3s 2ms/step - loss: 8.8141e-04 - val_loss: 0.0049\n",
      "Epoch 20/50\n",
      "1751/1751 [==============================] - 3s 2ms/step - loss: 8.5755e-04 - val_loss: 0.0081\n",
      "Epoch 21/50\n",
      "1751/1751 [==============================] - 3s 2ms/step - loss: 8.2088e-04 - val_loss: 0.0048\n",
      "Epoch 22/50\n",
      "1751/1751 [==============================] - 3s 2ms/step - loss: 8.9592e-04 - val_loss: 0.0041\n",
      "Epoch 23/50\n",
      "1751/1751 [==============================] - 3s 2ms/step - loss: 7.1759e-04 - val_loss: 0.0041\n",
      "Epoch 24/50\n",
      "1751/1751 [==============================] - 3s 2ms/step - loss: 7.0548e-04 - val_loss: 0.0040\n",
      "Epoch 25/50\n",
      "1751/1751 [==============================] - 3s 2ms/step - loss: 6.9150e-04 - val_loss: 0.0038\n",
      "Epoch 26/50\n",
      "1751/1751 [==============================] - 3s 2ms/step - loss: 6.2605e-04 - val_loss: 0.0055\n",
      "Epoch 27/50\n",
      "1751/1751 [==============================] - 3s 2ms/step - loss: 6.9775e-04 - val_loss: 0.0033\n",
      "Epoch 28/50\n",
      "1751/1751 [==============================] - 3s 2ms/step - loss: 5.5384e-04 - val_loss: 0.0029\n",
      "Epoch 29/50\n",
      "1751/1751 [==============================] - 3s 2ms/step - loss: 4.8330e-04 - val_loss: 0.0044\n",
      "Epoch 30/50\n",
      "1751/1751 [==============================] - 3s 2ms/step - loss: 5.2314e-04 - val_loss: 0.0027\n",
      "Epoch 31/50\n",
      "1751/1751 [==============================] - 3s 2ms/step - loss: 4.7684e-04 - val_loss: 0.0034\n",
      "Epoch 32/50\n",
      "1751/1751 [==============================] - 3s 1ms/step - loss: 4.7813e-04 - val_loss: 0.0034\n",
      "Epoch 33/50\n",
      "1751/1751 [==============================] - 3s 1ms/step - loss: 4.3241e-04 - val_loss: 0.0046\n",
      "Epoch 34/50\n",
      "1751/1751 [==============================] - 3s 1ms/step - loss: 4.8202e-04 - val_loss: 0.0025\n",
      "Epoch 35/50\n",
      "1751/1751 [==============================] - 3s 2ms/step - loss: 3.9346e-04 - val_loss: 0.0022\n",
      "Epoch 36/50\n",
      "1751/1751 [==============================] - 3s 1ms/step - loss: 3.9235e-04 - val_loss: 0.0022\n",
      "Epoch 37/50\n",
      "1751/1751 [==============================] - 3s 2ms/step - loss: 3.9404e-04 - val_loss: 0.0021\n",
      "Epoch 38/50\n",
      "1751/1751 [==============================] - 3s 2ms/step - loss: 3.2903e-04 - val_loss: 0.0020\n",
      "Epoch 39/50\n",
      "1751/1751 [==============================] - 3s 2ms/step - loss: 3.7861e-04 - val_loss: 0.0019\n",
      "Epoch 40/50\n",
      "1751/1751 [==============================] - 3s 2ms/step - loss: 3.9071e-04 - val_loss: 0.0022\n",
      "Epoch 41/50\n",
      "1751/1751 [==============================] - 3s 2ms/step - loss: 3.3872e-04 - val_loss: 0.0017\n",
      "Epoch 42/50\n",
      "1751/1751 [==============================] - 3s 2ms/step - loss: 3.1868e-04 - val_loss: 0.0030\n",
      "Epoch 43/50\n",
      "1751/1751 [==============================] - 3s 2ms/step - loss: 4.4676e-04 - val_loss: 0.0030\n",
      "Epoch 44/50\n",
      "1751/1751 [==============================] - 3s 2ms/step - loss: 3.4464e-04 - val_loss: 0.0018\n",
      "Epoch 45/50\n",
      "1751/1751 [==============================] - 3s 2ms/step - loss: 3.9884e-04 - val_loss: 0.0017\n",
      "Epoch 46/50\n",
      "1751/1751 [==============================] - 3s 2ms/step - loss: 2.8063e-04 - val_loss: 0.0019\n",
      "Epoch 47/50\n",
      "1751/1751 [==============================] - 3s 2ms/step - loss: 4.9849e-04 - val_loss: 0.0015\n",
      "Epoch 48/50\n",
      "1751/1751 [==============================] - 3s 2ms/step - loss: 2.9372e-04 - val_loss: 0.0027\n",
      "Epoch 49/50\n",
      "1751/1751 [==============================] - 3s 2ms/step - loss: 3.5857e-04 - val_loss: 0.0067\n",
      "Epoch 50/50\n",
      "1751/1751 [==============================] - 3s 2ms/step - loss: 3.8912e-04 - val_loss: 0.0017\n"
     ]
    }
   ],
   "source": [
    "# fit \n",
    "checkpointer = ModelCheckpoint(filepath='saved_models/LSTM_vanilla.hdf5', \n",
    "                               verbose=1, monitor='val_loss', save_best_only=True)\n",
    "history = model.fit(X, y, epochs=50, validation_split=0.1, verbose=1)"
   ]
  },
  {
   "cell_type": "code",
   "execution_count": 20,
   "metadata": {
    "collapsed": false
   },
   "outputs": [
    {
     "data": {
      "image/png": "[encoded data removed]",
      "text/plain": [
       "<matplotlib.figure.Figure at 0x7fec801d57f0>"
      ]
     },
     "metadata": {
      "needs_background": "light"
     },
     "output_type": "display_data"
    }
   ],
   "source": [
    "plt.plot(history.history['loss'], label='train')\n",
    "plt.plot(history.history['val_loss'], label='valid')\n",
    "plt.legend()\n",
    "plt.show()"
   ]
  },
  {
   "cell_type": "code",
   "execution_count": 21,
   "metadata": {
    "collapsed": true
   },
   "outputs": [],
   "source": [
    "preds = model.predict(X_test)"
   ]
  },
  {
   "cell_type": "code",
   "execution_count": 22,
   "metadata": {
    "collapsed": true
   },
   "outputs": [],
   "source": [
    "preds= y_min_max_scaler.inverse_transform(preds.reshape(1, -1))\n",
    "y_test=y_min_max_scaler.inverse_transform(y_test.reshape(1, -1))"
   ]
  },
  {
   "cell_type": "code",
   "execution_count": 23,
   "metadata": {
    "collapsed": false
   },
   "outputs": [
    {
     "data": {
      "image/png": "[encoded data removed]",
      "text/plain": [
       "<matplotlib.figure.Figure at 0x7fec800ecdd8>"
      ]
     },
     "metadata": {
      "needs_background": "light"
     },
     "output_type": "display_data"
    }
   ],
   "source": [
    "plt.plot(preds.ravel(), label='prediction')\n",
    "plt.plot(y_test.ravel(), label='truth')\n",
    "plt.legend()\n",
    "plt.show()"
   ]
  },
  {
   "cell_type": "code",
   "execution_count": 24,
   "metadata": {
    "collapsed": false
   },
   "outputs": [
    {
     "data": {
      "text/plain": [
       "1844.2193528034504"
      ]
     },
     "execution_count": 24,
     "metadata": {},
     "output_type": "execute_result"
    }
   ],
   "source": [
    "np.sqrt(mean_squared_error(y_test,preds))"
   ]
  },
  {
   "cell_type": "markdown",
   "metadata": {},
   "source": [
    "## STACKED LSTM"
   ]
  },
  {
   "cell_type": "code",
   "execution_count": 27,
   "metadata": {
    "collapsed": true
   },
   "outputs": [],
   "source": [
    "X = features_train_scaled.values\n",
    "X_test = features_test_scaled.values"
   ]
  },
  {
   "cell_type": "code",
   "execution_count": 28,
   "metadata": {
    "collapsed": true
   },
   "outputs": [],
   "source": [
    "y = target_train_scaled.ravel()\n",
    "y_test = target_test_scaled.ravel()"
   ]
  },
  {
   "cell_type": "code",
   "execution_count": 29,
   "metadata": {
    "collapsed": true
   },
   "outputs": [],
   "source": [
    "n_features = 1 #unvariate so we predict 1\n",
    "X = X.reshape((X.shape[0], X.shape[1], n_features))\n",
    "X_test = X_test.reshape((X_test.shape[0], X_test.shape[1], n_features))"
   ]
  },
  {
   "cell_type": "code",
   "execution_count": 32,
   "metadata": {
    "collapsed": true
   },
   "outputs": [],
   "source": [
    "model = Sequential()\n",
    "\n",
    "\n",
    "model.add(LSTM(64, input_shape=(X.shape[1], n_features),return_sequences=True))\n",
    "model.add(Dropout(0.2)) #0.2\n",
    "model.add(LSTM(128,return_sequences=False)) #, dropout_W=0.2))\n",
    "model.add(Dropout(0.3)) #0.2\n",
    "model.add(Dense(units=1))\n",
    "model.add(Activation('linear')) #'linear'"
   ]
  },
  {
   "cell_type": "code",
   "execution_count": 33,
   "metadata": {
    "collapsed": true
   },
   "outputs": [],
   "source": [
    "model.compile(loss='mean_squared_error', optimizer='adam')"
   ]
  },
  {
   "cell_type": "code",
   "execution_count": 34,
   "metadata": {
    "collapsed": false
   },
   "outputs": [
    {
     "name": "stdout",
     "output_type": "stream",
     "text": [
      "Train on 1751 samples, validate on 195 samples\n",
      "Epoch 1/50\n",
      "1750/1751 [============================>.] - ETA: 0s - loss: 0.0085Epoch 00001: val_loss improved from inf to 0.00607, saving model to saved_models/LSTM_stacked.hdf5\n",
      "1751/1751 [==============================] - 18s 10ms/step - loss: 0.0085 - val_loss: 0.0061\n",
      "Epoch 2/50\n",
      "1750/1751 [============================>.] - ETA: 0s - loss: 0.0032Epoch 00002: val_loss did not improve\n",
      "1751/1751 [==============================] - 17s 10ms/step - loss: 0.0032 - val_loss: 0.0087\n",
      "Epoch 3/50\n",
      "1750/1751 [============================>.] - ETA: 0s - loss: 0.0036Epoch 00003: val_loss did not improve\n",
      "1751/1751 [==============================] - 17s 10ms/step - loss: 0.0036 - val_loss: 0.0097\n",
      "Epoch 4/50\n",
      "1750/1751 [============================>.] - ETA: 0s - loss: 0.0031Epoch 00004: val_loss did not improve\n",
      "1751/1751 [==============================] - 17s 10ms/step - loss: 0.0030 - val_loss: 0.0074\n",
      "Epoch 5/50\n",
      "1750/1751 [============================>.] - ETA: 0s - loss: 0.0025Epoch 00005: val_loss did not improve\n",
      "1751/1751 [==============================] - 17s 10ms/step - loss: 0.0025 - val_loss: 0.0214\n",
      "Epoch 6/50\n",
      "1750/1751 [============================>.] - ETA: 0s - loss: 0.0017Epoch 00006: val_loss did not improve\n",
      "1751/1751 [==============================] - 16s 9ms/step - loss: 0.0017 - val_loss: 0.0166\n",
      "Epoch 7/50\n",
      "1750/1751 [============================>.] - ETA: 0s - loss: 0.0015Epoch 00007: val_loss did not improve\n",
      "1751/1751 [==============================] - 17s 10ms/step - loss: 0.0015 - val_loss: 0.0073\n",
      "Epoch 8/50\n",
      "1750/1751 [============================>.] - ETA: 0s - loss: 0.0018Epoch 00008: val_loss did not improve\n",
      "1751/1751 [==============================] - 17s 10ms/step - loss: 0.0018 - val_loss: 0.0176\n",
      "Epoch 9/50\n",
      "1750/1751 [============================>.] - ETA: 0s - loss: 0.0014Epoch 00009: val_loss did not improve\n",
      "1751/1751 [==============================] - 17s 10ms/step - loss: 0.0014 - val_loss: 0.0086\n",
      "Epoch 10/50\n",
      "1750/1751 [============================>.] - ETA: 0s - loss: 0.0013Epoch 00010: val_loss did not improve\n",
      "1751/1751 [==============================] - 17s 10ms/step - loss: 0.0013 - val_loss: 0.0180\n",
      "Epoch 11/50\n",
      "1750/1751 [============================>.] - ETA: 0s - loss: 0.0013Epoch 00011: val_loss improved from 0.00607 to 0.00419, saving model to saved_models/LSTM_stacked.hdf5\n",
      "1751/1751 [==============================] - 17s 10ms/step - loss: 0.0013 - val_loss: 0.0042\n",
      "Epoch 12/50\n",
      "1750/1751 [============================>.] - ETA: 0s - loss: 0.0013Epoch 00012: val_loss improved from 0.00419 to 0.00400, saving model to saved_models/LSTM_stacked.hdf5\n",
      "1751/1751 [==============================] - 17s 10ms/step - loss: 0.0013 - val_loss: 0.0040\n",
      "Epoch 13/50\n",
      "1750/1751 [============================>.] - ETA: 0s - loss: 0.0011Epoch 00013: val_loss did not improve\n",
      "1751/1751 [==============================] - 16s 9ms/step - loss: 0.0011 - val_loss: 0.0109\n",
      "Epoch 14/50\n",
      "1750/1751 [============================>.] - ETA: 0s - loss: 0.0012Epoch 00014: val_loss did not improve\n",
      "1751/1751 [==============================] - 16s 9ms/step - loss: 0.0012 - val_loss: 0.0143\n",
      "Epoch 15/50\n",
      "1750/1751 [============================>.] - ETA: 0s - loss: 9.6229e-04Epoch 00015: val_loss did not improve\n",
      "1751/1751 [==============================] - 17s 10ms/step - loss: 9.6176e-04 - val_loss: 0.0086\n",
      "Epoch 16/50\n",
      "1750/1751 [============================>.] - ETA: 0s - loss: 0.0011Epoch 00016: val_loss did not improve\n",
      "1751/1751 [==============================] - 17s 10ms/step - loss: 0.0011 - val_loss: 0.0041\n",
      "Epoch 17/50\n",
      "1750/1751 [============================>.] - ETA: 0s - loss: 8.3205e-04Epoch 00017: val_loss did not improve\n",
      "1751/1751 [==============================] - 17s 10ms/step - loss: 8.3166e-04 - val_loss: 0.0041\n",
      "Epoch 18/50\n",
      "1750/1751 [============================>.] - ETA: 0s - loss: 7.7922e-04Epoch 00018: val_loss improved from 0.00400 to 0.00372, saving model to saved_models/LSTM_stacked.hdf5\n",
      "1751/1751 [==============================] - 17s 10ms/step - loss: 7.7882e-04 - val_loss: 0.0037\n",
      "Epoch 19/50\n",
      "1750/1751 [============================>.] - ETA: 0s - loss: 7.9286e-04Epoch 00019: val_loss did not improve\n",
      "1751/1751 [==============================] - 17s 10ms/step - loss: 7.9256e-04 - val_loss: 0.0058\n",
      "Epoch 20/50\n",
      "1750/1751 [============================>.] - ETA: 0s - loss: 9.2186e-04Epoch 00020: val_loss improved from 0.00372 to 0.00354, saving model to saved_models/LSTM_stacked.hdf5\n",
      "1751/1751 [==============================] - 17s 10ms/step - loss: 9.2204e-04 - val_loss: 0.0035\n",
      "Epoch 21/50\n",
      "1750/1751 [============================>.] - ETA: 0s - loss: 0.0010Epoch 00021: val_loss did not improve\n",
      "1751/1751 [==============================] - 17s 10ms/step - loss: 0.0010 - val_loss: 0.0085\n",
      "Epoch 22/50\n",
      "1750/1751 [============================>.] - ETA: 0s - loss: 0.0011Epoch 00022: val_loss did not improve\n",
      "1751/1751 [==============================] - 17s 10ms/step - loss: 0.0011 - val_loss: 0.0039\n",
      "Epoch 23/50\n",
      "1750/1751 [============================>.] - ETA: 0s - loss: 7.9513e-04Epoch 00023: val_loss did not improve\n",
      "1751/1751 [==============================] - 17s 10ms/step - loss: 7.9523e-04 - val_loss: 0.0077\n",
      "Epoch 24/50\n",
      "1750/1751 [============================>.] - ETA: 0s - loss: 8.2152e-04Epoch 00024: val_loss did not improve\n",
      "1751/1751 [==============================] - 17s 10ms/step - loss: 8.2108e-04 - val_loss: 0.0060\n",
      "Epoch 25/50\n",
      "1750/1751 [============================>.] - ETA: 0s - loss: 9.8575e-04Epoch 00025: val_loss did not improve\n",
      "1751/1751 [==============================] - 17s 10ms/step - loss: 9.8519e-04 - val_loss: 0.0096\n",
      "Epoch 26/50\n",
      "1750/1751 [============================>.] - ETA: 0s - loss: 8.7993e-04Epoch 00026: val_loss improved from 0.00354 to 0.00337, saving model to saved_models/LSTM_stacked.hdf5\n",
      "1751/1751 [==============================] - 18s 10ms/step - loss: 8.7992e-04 - val_loss: 0.0034\n",
      "Epoch 27/50\n",
      "1750/1751 [============================>.] - ETA: 0s - loss: 6.1140e-04Epoch 00027: val_loss did not improve\n",
      "1751/1751 [==============================] - 17s 10ms/step - loss: 6.1109e-04 - val_loss: 0.0044\n",
      "Epoch 28/50\n",
      "1750/1751 [============================>.] - ETA: 0s - loss: 7.8209e-04Epoch 00028: val_loss improved from 0.00337 to 0.00299, saving model to saved_models/LSTM_stacked.hdf5\n",
      "1751/1751 [==============================] - 17s 9ms/step - loss: 7.8224e-04 - val_loss: 0.0030\n",
      "Epoch 29/50\n",
      "1750/1751 [============================>.] - ETA: 0s - loss: 7.7647e-04Epoch 00029: val_loss did not improve\n",
      "1751/1751 [==============================] - 17s 9ms/step - loss: 7.7610e-04 - val_loss: 0.0050\n",
      "Epoch 30/50\n",
      "1750/1751 [============================>.] - ETA: 0s - loss: 8.6902e-04Epoch 00030: val_loss did not improve\n",
      "1751/1751 [==============================] - 18s 10ms/step - loss: 8.6867e-04 - val_loss: 0.0031\n",
      "Epoch 31/50\n",
      "1750/1751 [============================>.] - ETA: 0s - loss: 6.5505e-04Epoch 00031: val_loss did not improve\n",
      "1751/1751 [==============================] - 17s 10ms/step - loss: 6.5492e-04 - val_loss: 0.0036\n",
      "Epoch 32/50\n",
      "1750/1751 [============================>.] - ETA: 0s - loss: 7.9648e-04Epoch 00032: val_loss did not improve\n",
      "1751/1751 [==============================] - 17s 10ms/step - loss: 7.9608e-04 - val_loss: 0.0044\n",
      "Epoch 33/50\n",
      "1750/1751 [============================>.] - ETA: 0s - loss: 9.2121e-04Epoch 00033: val_loss did not improve\n",
      "1751/1751 [==============================] - 17s 10ms/step - loss: 9.2068e-04 - val_loss: 0.0064\n",
      "Epoch 34/50\n",
      "1750/1751 [============================>.] - ETA: 0s - loss: 7.6606e-04Epoch 00034: val_loss did not improve\n",
      "1751/1751 [==============================] - 17s 10ms/step - loss: 7.6563e-04 - val_loss: 0.0035\n",
      "Epoch 35/50\n",
      "1750/1751 [============================>.] - ETA: 0s - loss: 6.2194e-04Epoch 00035: val_loss did not improve\n",
      "1751/1751 [==============================] - 17s 10ms/step - loss: 6.2173e-04 - val_loss: 0.0038\n",
      "Epoch 36/50\n",
      "1750/1751 [============================>.] - ETA: 0s - loss: 6.5737e-04Epoch 00036: val_loss did not improve\n",
      "1751/1751 [==============================] - 17s 10ms/step - loss: 6.5732e-04 - val_loss: 0.0076\n",
      "Epoch 37/50\n",
      "1750/1751 [============================>.] - ETA: 0s - loss: 6.3654e-04Epoch 00037: val_loss did not improve\n",
      "1751/1751 [==============================] - 17s 10ms/step - loss: 6.3704e-04 - val_loss: 0.0070\n",
      "Epoch 38/50\n",
      "1750/1751 [============================>.] - ETA: 0s - loss: 6.9380e-04Epoch 00038: val_loss did not improve\n",
      "1751/1751 [==============================] - 17s 10ms/step - loss: 6.9343e-04 - val_loss: 0.0039\n",
      "Epoch 39/50\n",
      "1750/1751 [============================>.] - ETA: 0s - loss: 6.4306e-04Epoch 00039: val_loss did not improve\n",
      "1751/1751 [==============================] - 17s 10ms/step - loss: 6.4284e-04 - val_loss: 0.0031\n",
      "Epoch 40/50\n",
      "1750/1751 [============================>.] - ETA: 0s - loss: 6.2866e-04Epoch 00040: val_loss did not improve\n",
      "1751/1751 [==============================] - 17s 10ms/step - loss: 6.2830e-04 - val_loss: 0.0035\n",
      "Epoch 41/50\n",
      "1750/1751 [============================>.] - ETA: 0s - loss: 7.8078e-04Epoch 00041: val_loss did not improve\n",
      "1751/1751 [==============================] - 17s 10ms/step - loss: 7.8039e-04 - val_loss: 0.0043\n",
      "Epoch 42/50\n",
      "1750/1751 [============================>.] - ETA: 0s - loss: 7.2516e-04Epoch 00042: val_loss did not improve\n",
      "1751/1751 [==============================] - 17s 10ms/step - loss: 7.2493e-04 - val_loss: 0.0035\n",
      "Epoch 43/50\n",
      "1750/1751 [============================>.] - ETA: 0s - loss: 5.3417e-04Epoch 00043: val_loss did not improve\n",
      "1751/1751 [==============================] - 17s 10ms/step - loss: 5.3395e-04 - val_loss: 0.0030\n",
      "Epoch 44/50\n",
      "1750/1751 [============================>.] - ETA: 0s - loss: 6.5402e-04Epoch 00044: val_loss improved from 0.00299 to 0.00287, saving model to saved_models/LSTM_stacked.hdf5\n",
      "1751/1751 [==============================] - 17s 10ms/step - loss: 6.5377e-04 - val_loss: 0.0029\n",
      "Epoch 45/50\n",
      "1750/1751 [============================>.] - ETA: 0s - loss: 7.2775e-04Epoch 00045: val_loss did not improve\n",
      "1751/1751 [==============================] - 17s 10ms/step - loss: 7.2917e-04 - val_loss: 0.0055\n",
      "Epoch 46/50\n",
      "1750/1751 [============================>.] - ETA: 0s - loss: 7.9910e-04Epoch 00046: val_loss did not improve\n",
      "1751/1751 [==============================] - 17s 9ms/step - loss: 7.9869e-04 - val_loss: 0.0053\n",
      "Epoch 47/50\n",
      "1750/1751 [============================>.] - ETA: 0s - loss: 6.3548e-04Epoch 00047: val_loss did not improve\n",
      "1751/1751 [==============================] - 17s 10ms/step - loss: 6.3536e-04 - val_loss: 0.0032\n",
      "Epoch 48/50\n",
      "1750/1751 [============================>.] - ETA: 0s - loss: 7.4939e-04Epoch 00048: val_loss did not improve\n",
      "1751/1751 [==============================] - 17s 10ms/step - loss: 7.4910e-04 - val_loss: 0.0048\n",
      "Epoch 49/50\n",
      "1750/1751 [============================>.] - ETA: 0s - loss: 5.6991e-04Epoch 00049: val_loss improved from 0.00287 to 0.00286, saving model to saved_models/LSTM_stacked.hdf5\n",
      "1751/1751 [==============================] - 17s 10ms/step - loss: 5.6975e-04 - val_loss: 0.0029\n",
      "Epoch 50/50\n",
      "1750/1751 [============================>.] - ETA: 0s - loss: 5.9286e-04Epoch 00050: val_loss improved from 0.00286 to 0.00220, saving model to saved_models/LSTM_stacked.hdf5\n",
      "1751/1751 [==============================] - 17s 10ms/step - loss: 5.9287e-04 - val_loss: 0.0022\n"
     ]
    }
   ],
   "source": [
    "checkpointer = ModelCheckpoint(filepath='saved_models/LSTM_stacked.hdf5', \n",
    "                               verbose=1, save_best_only=True)\n",
    "epochs = 50 #100\n",
    "batch_size=10\n",
    "history = model.fit(X, y, epochs=epochs, batch_size=batch_size, validation_split=0.1, verbose=1, callbacks=[checkpointer]) #valid=0.2#,shuffle=True"
   ]
  },
  {
   "cell_type": "code",
   "execution_count": 35,
   "metadata": {
    "collapsed": false
   },
   "outputs": [
    {
     "data": {
      "image/png": "[encoded data removed]",
      "text/plain": [
       "<matplotlib.figure.Figure at 0x7fec468445f8>"
      ]
     },
     "metadata": {
      "needs_background": "light"
     },
     "output_type": "display_data"
    }
   ],
   "source": [
    "plt.plot(history.history['loss'], label='train')\n",
    "plt.plot(history.history['val_loss'], label='valid')\n",
    "plt.legend()\n",
    "plt.show()"
   ]
  },
  {
   "cell_type": "code",
   "execution_count": 36,
   "metadata": {
    "collapsed": true
   },
   "outputs": [],
   "source": [
    "model.load_weights('saved_models/LSTM_stacked.hdf5')"
   ]
  },
  {
   "cell_type": "code",
   "execution_count": 37,
   "metadata": {
    "collapsed": true
   },
   "outputs": [],
   "source": [
    "preds = model.predict(X_test)"
   ]
  },
  {
   "cell_type": "code",
   "execution_count": 38,
   "metadata": {
    "collapsed": true
   },
   "outputs": [],
   "source": [
    "preds= y_min_max_scaler.inverse_transform(preds.reshape(1, -1))\n",
    "y_test=y_min_max_scaler.inverse_transform(y_test.reshape(1, -1))"
   ]
  },
  {
   "cell_type": "code",
   "execution_count": 39,
   "metadata": {
    "collapsed": false
   },
   "outputs": [
    {
     "data": {
      "image/png": "[encoded data removed]",
      "text/plain": [
       "<matplotlib.figure.Figure at 0x7fec454afa20>"
      ]
     },
     "metadata": {
      "needs_background": "light"
     },
     "output_type": "display_data"
    }
   ],
   "source": [
    "plt.plot(preds.ravel(), label='prediction')\n",
    "plt.plot(y_test.ravel(), label='truth')\n",
    "plt.legend()\n",
    "plt.show()"
   ]
  },
  {
   "cell_type": "code",
   "execution_count": 40,
   "metadata": {
    "collapsed": false
   },
   "outputs": [
    {
     "data": {
      "text/plain": [
       "1647.7927784934432"
      ]
     },
     "execution_count": 40,
     "metadata": {},
     "output_type": "execute_result"
    }
   ],
   "source": [
    "np.sqrt(mean_squared_error(y_test,preds))"
   ]
  },
  {
   "cell_type": "markdown",
   "metadata": {},
   "source": [
    "# Multivariate LSTM Models"
   ]
  },
  {
   "cell_type": "markdown",
   "metadata": {},
   "source": [
    "## Multiple Input Series "
   ]
  },
  {
   "cell_type": "code",
   "execution_count": 7,
   "metadata": {
    "collapsed": true
   },
   "outputs": [],
   "source": [
    "def window_data(df, window_len):\n",
    "    window_data = []\n",
    "    for i in range(len(df) - window_len):\n",
    "        tmp = df[i: (i + window_len)].copy()\n",
    "        window_data.append(tmp.values)\n",
    "    return np.array(window_data)"
   ]
  },
  {
   "cell_type": "code",
   "execution_count": 8,
   "metadata": {
    "collapsed": true
   },
   "outputs": [],
   "source": [
    "btc_data = pd.read_csv('BTC_DATA_fin.csv', index_col=0) #.set_index('Date').dropna(axis=1)\n",
    "btc_data.index = pd.to_datetime(btc_data.index)"
   ]
  },
  {
   "cell_type": "code",
   "execution_count": 9,
   "metadata": {
    "collapsed": true
   },
   "outputs": [],
   "source": [
    "features_train = features[:len(features)-prediction_days]\n",
    "features_test = features[len(features)-prediction_days:]\n",
    "\n",
    "target_train = target[:len(features)-prediction_days]\n",
    "target_test = target[len(features)-prediction_days:]"
   ]
  },
  {
   "cell_type": "code",
   "execution_count": 10,
   "metadata": {
    "collapsed": true
   },
   "outputs": [],
   "source": [
    "scaler = MinMaxScaler(feature_range=(0,1))  \n",
    "min_max_scaler = MinMaxScaler()\n",
    "\n",
    "features_train = pd.DataFrame(min_max_scaler.fit_transform(features_train), \n",
    "                             columns=features_train.columns, \n",
    "                             index=features_train.index)\n",
    "features_test = pd.DataFrame(min_max_scaler.transform(features_test), \n",
    "                             columns=features_test.columns, \n",
    "                             index=features_test.index)"
   ]
  },
  {
   "cell_type": "code",
   "execution_count": 11,
   "metadata": {
    "collapsed": true
   },
   "outputs": [],
   "source": [
    "y_scaler = MinMaxScaler()\n",
    "target_train = y_scaler.fit_transform(target_train.values.reshape(-1, 1))\n",
    "target_test = y_scaler.transform(target_test.values.reshape(-1, 1))"
   ]
  },
  {
   "cell_type": "code",
   "execution_count": 75,
   "metadata": {
    "collapsed": true
   },
   "outputs": [],
   "source": [
    "window_len=7\n",
    "X_train = window_data(features_train, window_len=window_len)\n",
    "X_test = window_data(features_test, window_len=window_len)\n",
    "    \n",
    "\n",
    "y_train = target_train[window_len:]\n",
    "y_test = target_test[window_len:]"
   ]
  },
  {
   "cell_type": "code",
   "execution_count": 76,
   "metadata": {
    "collapsed": false
   },
   "outputs": [
    {
     "data": {
      "text/plain": [
       "(1939, 7, 29)"
      ]
     },
     "execution_count": 76,
     "metadata": {},
     "output_type": "execute_result"
    }
   ],
   "source": [
    "X_train.shape"
   ]
  },
  {
   "cell_type": "code",
   "execution_count": 77,
   "metadata": {
    "collapsed": true
   },
   "outputs": [],
   "source": [
    "model = Sequential()\n",
    "\n",
    "model.add(LSTM(50, activation='relu', input_shape=(X_train.shape[1], X_train.shape[2])))\n",
    "model.add(Dropout(0.2))\n",
    "model.add(Dense(units=1))\n",
    "model.add(Activation('linear')) #'relu'"
   ]
  },
  {
   "cell_type": "code",
   "execution_count": 78,
   "metadata": {
    "collapsed": true
   },
   "outputs": [],
   "source": [
    "model.compile(loss='mean_squared_error', optimizer='adam')"
   ]
  },
  {
   "cell_type": "code",
   "execution_count": 79,
   "metadata": {
    "collapsed": false
   },
   "outputs": [
    {
     "name": "stdout",
     "output_type": "stream",
     "text": [
      "Train on 1842 samples, validate on 97 samples\n",
      "Epoch 1/30\n",
      "1825/1842 [============================>.] - ETA: 0s - loss: 0.0043Epoch 00001: val_loss improved from inf to 0.00066, saving model to saved_models/LSTM2_multi7\n",
      "1842/1842 [==============================] - 7s 4ms/step - loss: 0.0043 - val_loss: 6.5918e-04\n",
      "Epoch 2/30\n",
      "1825/1842 [============================>.] - ETA: 0s - loss: 0.0015Epoch 00002: val_loss improved from 0.00066 to 0.00035, saving model to saved_models/LSTM2_multi7\n",
      "1842/1842 [==============================] - 6s 3ms/step - loss: 0.0015 - val_loss: 3.5185e-04\n",
      "Epoch 3/30\n",
      "1840/1842 [============================>.] - ETA: 0s - loss: 0.0012Epoch 00003: val_loss did not improve\n",
      "1842/1842 [==============================] - 6s 3ms/step - loss: 0.0012 - val_loss: 7.7173e-04\n",
      "Epoch 4/30\n",
      "1835/1842 [============================>.] - ETA: 0s - loss: 9.7029e-04Epoch 00004: val_loss did not improve\n",
      "1842/1842 [==============================] - 6s 3ms/step - loss: 9.6806e-04 - val_loss: 8.3893e-04\n",
      "Epoch 5/30\n",
      "1840/1842 [============================>.] - ETA: 0s - loss: 9.3417e-04Epoch 00005: val_loss did not improve\n",
      "1842/1842 [==============================] - 6s 3ms/step - loss: 9.3347e-04 - val_loss: 0.0075\n",
      "Epoch 6/30\n",
      "1825/1842 [============================>.] - ETA: 0s - loss: 8.1455e-04Epoch 00006: val_loss did not improve\n",
      "1842/1842 [==============================] - 6s 3ms/step - loss: 8.1441e-04 - val_loss: 0.0035\n",
      "Epoch 7/30\n",
      "1840/1842 [============================>.] - ETA: 0s - loss: 7.8324e-04Epoch 00007: val_loss did not improve\n",
      "1842/1842 [==============================] - 6s 3ms/step - loss: 7.8487e-04 - val_loss: 0.0012\n",
      "Epoch 8/30\n",
      "1840/1842 [============================>.] - ETA: 0s - loss: 6.4204e-04Epoch 00008: val_loss did not improve\n",
      "1842/1842 [==============================] - 6s 3ms/step - loss: 6.4136e-04 - val_loss: 9.1692e-04\n",
      "Epoch 9/30\n",
      "1840/1842 [============================>.] - ETA: 0s - loss: 6.6528e-04Epoch 00009: val_loss did not improve\n",
      "1842/1842 [==============================] - 6s 3ms/step - loss: 6.6457e-04 - val_loss: 0.0021\n",
      "Epoch 10/30\n",
      "1825/1842 [============================>.] - ETA: 0s - loss: 7.7508e-04Epoch 00010: val_loss did not improve\n",
      "1842/1842 [==============================] - 6s 3ms/step - loss: 7.7075e-04 - val_loss: 0.0050\n",
      "Epoch 11/30\n",
      "1840/1842 [============================>.] - ETA: 0s - loss: 9.7926e-04Epoch 00011: val_loss improved from 0.00035 to 0.00031, saving model to saved_models/LSTM2_multi7\n",
      "1842/1842 [==============================] - 6s 3ms/step - loss: 9.7824e-04 - val_loss: 3.1219e-04\n",
      "Epoch 12/30\n",
      "1840/1842 [============================>.] - ETA: 0s - loss: 0.0011Epoch 00012: val_loss did not improve\n",
      "1842/1842 [==============================] - 6s 3ms/step - loss: 0.0011 - val_loss: 0.0015\n",
      "Epoch 13/30\n",
      "1825/1842 [============================>.] - ETA: 0s - loss: 6.2539e-04Epoch 00013: val_loss did not improve\n",
      "1842/1842 [==============================] - 6s 3ms/step - loss: 6.2713e-04 - val_loss: 0.0016\n",
      "Epoch 14/30\n",
      "1825/1842 [============================>.] - ETA: 0s - loss: 5.7146e-04Epoch 00014: val_loss did not improve\n",
      "1842/1842 [==============================] - 6s 3ms/step - loss: 5.7379e-04 - val_loss: 4.5424e-04\n",
      "Epoch 15/30\n",
      "1835/1842 [============================>.] - ETA: 0s - loss: 6.1500e-04Epoch 00015: val_loss did not improve\n",
      "1842/1842 [==============================] - 6s 3ms/step - loss: 6.1375e-04 - val_loss: 3.2499e-04\n",
      "Epoch 16/30\n",
      "1825/1842 [============================>.] - ETA: 0s - loss: 7.2715e-04Epoch 00016: val_loss did not improve\n",
      "1842/1842 [==============================] - 6s 3ms/step - loss: 7.2252e-04 - val_loss: 0.0014\n",
      "Epoch 17/30\n",
      "1825/1842 [============================>.] - ETA: 0s - loss: 5.4321e-04Epoch 00017: val_loss did not improve\n",
      "1842/1842 [==============================] - 6s 3ms/step - loss: 5.4689e-04 - val_loss: 0.0041\n",
      "Epoch 18/30\n",
      "1835/1842 [============================>.] - ETA: 0s - loss: 5.7267e-04Epoch 00018: val_loss improved from 0.00031 to 0.00029, saving model to saved_models/LSTM2_multi7\n",
      "1842/1842 [==============================] - 6s 3ms/step - loss: 5.7076e-04 - val_loss: 2.8923e-04\n",
      "Epoch 19/30\n",
      "1835/1842 [============================>.] - ETA: 0s - loss: 6.4726e-04Epoch 00019: val_loss improved from 0.00029 to 0.00024, saving model to saved_models/LSTM2_multi7\n",
      "1842/1842 [==============================] - 6s 3ms/step - loss: 6.4898e-04 - val_loss: 2.4308e-04\n",
      "Epoch 20/30\n",
      "1835/1842 [============================>.] - ETA: 0s - loss: 6.6795e-04Epoch 00020: val_loss did not improve\n",
      "1842/1842 [==============================] - 6s 3ms/step - loss: 6.6580e-04 - val_loss: 6.8628e-04\n",
      "Epoch 21/30\n",
      "1830/1842 [============================>.] - ETA: 0s - loss: 4.7176e-04Epoch 00021: val_loss did not improve\n",
      "1842/1842 [==============================] - 6s 3ms/step - loss: 4.6891e-04 - val_loss: 0.0011\n",
      "Epoch 22/30\n",
      "1830/1842 [============================>.] - ETA: 0s - loss: 5.5927e-04Epoch 00022: val_loss did not improve\n",
      "1842/1842 [==============================] - 6s 3ms/step - loss: 5.5614e-04 - val_loss: 9.2492e-04\n",
      "Epoch 23/30\n",
      "1840/1842 [============================>.] - ETA: 0s - loss: 5.2712e-04Epoch 00023: val_loss did not improve\n",
      "1842/1842 [==============================] - 6s 3ms/step - loss: 5.2671e-04 - val_loss: 3.8859e-04\n",
      "Epoch 24/30\n",
      "1840/1842 [============================>.] - ETA: 0s - loss: 5.7602e-04Epoch 00024: val_loss did not improve\n",
      "1842/1842 [==============================] - 6s 3ms/step - loss: 5.7556e-04 - val_loss: 6.0682e-04\n",
      "Epoch 25/30\n",
      "1840/1842 [============================>.] - ETA: 0s - loss: 5.4818e-04Epoch 00025: val_loss did not improve\n",
      "1842/1842 [==============================] - 6s 3ms/step - loss: 5.4789e-04 - val_loss: 3.9865e-04\n",
      "Epoch 26/30\n",
      "1840/1842 [============================>.] - ETA: 0s - loss: 5.1145e-04Epoch 00026: val_loss did not improve\n",
      "1842/1842 [==============================] - 6s 3ms/step - loss: 5.1104e-04 - val_loss: 0.0028\n",
      "Epoch 27/30\n",
      "1840/1842 [============================>.] - ETA: 0s - loss: 5.1339e-04Epoch 00027: val_loss improved from 0.00024 to 0.00021, saving model to saved_models/LSTM2_multi7\n",
      "1842/1842 [==============================] - 6s 3ms/step - loss: 5.1323e-04 - val_loss: 2.0851e-04\n",
      "Epoch 28/30\n",
      "1825/1842 [============================>.] - ETA: 0s - loss: 5.0308e-04Epoch 00028: val_loss did not improve\n",
      "1842/1842 [==============================] - 6s 3ms/step - loss: 5.0046e-04 - val_loss: 2.3056e-04\n",
      "Epoch 29/30\n",
      "1830/1842 [============================>.] - ETA: 0s - loss: 4.5782e-04Epoch 00029: val_loss improved from 0.00021 to 0.00016, saving model to saved_models/LSTM2_multi7\n",
      "1842/1842 [==============================] - 6s 3ms/step - loss: 4.5526e-04 - val_loss: 1.5532e-04\n",
      "Epoch 30/30\n",
      "1825/1842 [============================>.] - ETA: 0s - loss: 5.9421e-04Epoch 00030: val_loss did not improve\n",
      "1842/1842 [==============================] - 6s 3ms/step - loss: 5.9120e-04 - val_loss: 5.1552e-04\n"
     ]
    }
   ],
   "source": [
    "checkpointer = ModelCheckpoint(filepath='saved_models/LSTM2_multi7', \n",
    "                               verbose=1, save_best_only=True)\n",
    "epochs = 30 #100\n",
    "batch_size=5\n",
    "history = model.fit(X_train, y_train, epochs=epochs, batch_size=batch_size, validation_split=0.05, verbose=1, callbacks=[checkpointer]) #valid=0.2#,shuffle=True"
   ]
  },
  {
   "cell_type": "code",
   "execution_count": 80,
   "metadata": {
    "collapsed": false
   },
   "outputs": [
    {
     "data": {
      "image/png": "[encoded data removed]",
      "text/plain": [
       "<matplotlib.figure.Figure at 0x7fec37075c88>"
      ]
     },
     "metadata": {
      "needs_background": "light"
     },
     "output_type": "display_data"
    }
   ],
   "source": [
    "plt.plot(history.history['loss'], label='train')\n",
    "plt.plot(history.history['val_loss'], label='valid')\n",
    "plt.legend()\n",
    "plt.show()"
   ]
  },
  {
   "cell_type": "code",
   "execution_count": 81,
   "metadata": {
    "collapsed": true
   },
   "outputs": [],
   "source": [
    "preds = model.predict(X_test)"
   ]
  },
  {
   "cell_type": "code",
   "execution_count": 82,
   "metadata": {
    "collapsed": true
   },
   "outputs": [],
   "source": [
    "preds= y_scaler.inverse_transform(preds)"
   ]
  },
  {
   "cell_type": "code",
   "execution_count": 83,
   "metadata": {
    "collapsed": true
   },
   "outputs": [],
   "source": [
    "y_test=y_scaler.inverse_transform(y_test)"
   ]
  },
  {
   "cell_type": "code",
   "execution_count": 84,
   "metadata": {
    "collapsed": false
   },
   "outputs": [
    {
     "data": {
      "image/png": "[encoded data removed]",
      "text/plain": [
       "<matplotlib.figure.Figure at 0x7fec37075ef0>"
      ]
     },
     "metadata": {
      "needs_background": "light"
     },
     "output_type": "display_data"
    }
   ],
   "source": [
    "plt.plot(preds, label='prediction')\n",
    "plt.plot(y_test, label='truth')\n",
    "plt.legend()\n",
    "plt.show()"
   ]
  },
  {
   "cell_type": "code",
   "execution_count": 85,
   "metadata": {
    "collapsed": false
   },
   "outputs": [
    {
     "data": {
      "text/plain": [
       "1297.5057084002221"
      ]
     },
     "execution_count": 85,
     "metadata": {},
     "output_type": "execute_result"
    }
   ],
   "source": [
    "np.sqrt(mean_squared_error(y_test,preds))"
   ]
  },
  {
   "cell_type": "markdown",
   "metadata": {},
   "source": [
    "# Multiple Stacked LSTM"
   ]
  },
  {
   "cell_type": "code",
   "execution_count": 86,
   "metadata": {
    "collapsed": false
   },
   "outputs": [
    {
     "data": {
      "text/html": [
       "<div>\n",
       "<style>\n",
       "    .dataframe thead tr:only-child th {\n",
       "        text-align: right;\n",
       "    }\n",
       "\n",
       "    .dataframe thead th {\n",
       "        text-align: left;\n",
       "    }\n",
       "\n",
       "    .dataframe tbody tr th {\n",
       "        vertical-align: top;\n",
       "    }\n",
       "</style>\n",
       "<table border=\"1\" class=\"dataframe\">\n",
       "  <thead>\n",
       "    <tr style=\"text-align: right;\">\n",
       "      <th></th>\n",
       "      <th>BTC_Open</th>\n",
       "      <th>BTC_High</th>\n",
       "      <th>BTC_Low</th>\n",
       "      <th>BTC_Close</th>\n",
       "      <th>BTC_Volume</th>\n",
       "      <th>BTC_Market_Cap</th>\n",
       "      <th>Holiday</th>\n",
       "      <th>Weekend</th>\n",
       "      <th>wd_1</th>\n",
       "      <th>wd_2</th>\n",
       "      <th>...</th>\n",
       "      <th>N_tran</th>\n",
       "      <th>Diff</th>\n",
       "      <th>Block_Size</th>\n",
       "      <th>Mi_rev</th>\n",
       "      <th>Cost_tran</th>\n",
       "      <th>MA7</th>\n",
       "      <th>SO</th>\n",
       "      <th>Momentum_14</th>\n",
       "      <th>Momentum_7</th>\n",
       "      <th>Momentum_2</th>\n",
       "    </tr>\n",
       "    <tr>\n",
       "      <th>Date</th>\n",
       "      <th></th>\n",
       "      <th></th>\n",
       "      <th></th>\n",
       "      <th></th>\n",
       "      <th></th>\n",
       "      <th></th>\n",
       "      <th></th>\n",
       "      <th></th>\n",
       "      <th></th>\n",
       "      <th></th>\n",
       "      <th></th>\n",
       "      <th></th>\n",
       "      <th></th>\n",
       "      <th></th>\n",
       "      <th></th>\n",
       "      <th></th>\n",
       "      <th></th>\n",
       "      <th></th>\n",
       "      <th></th>\n",
       "      <th></th>\n",
       "      <th></th>\n",
       "    </tr>\n",
       "  </thead>\n",
       "  <tbody>\n",
       "    <tr>\n",
       "      <th>2013-04-28</th>\n",
       "      <td>135.30</td>\n",
       "      <td>135.98</td>\n",
       "      <td>132.10</td>\n",
       "      <td>134.21</td>\n",
       "      <td>0.0</td>\n",
       "      <td>1488566728</td>\n",
       "      <td>0</td>\n",
       "      <td>1</td>\n",
       "      <td>0</td>\n",
       "      <td>0</td>\n",
       "      <td>...</td>\n",
       "      <td>40986.0</td>\n",
       "      <td>8.974296e+06</td>\n",
       "      <td>0.120677</td>\n",
       "      <td>572109.88793</td>\n",
       "      <td>13.958666</td>\n",
       "      <td>121.457143</td>\n",
       "      <td>0.543814</td>\n",
       "      <td>19.21</td>\n",
       "      <td>18.30</td>\n",
       "      <td>-4.79</td>\n",
       "    </tr>\n",
       "    <tr>\n",
       "      <th>2013-04-29</th>\n",
       "      <td>134.44</td>\n",
       "      <td>147.49</td>\n",
       "      <td>134.00</td>\n",
       "      <td>144.54</td>\n",
       "      <td>0.0</td>\n",
       "      <td>1603768865</td>\n",
       "      <td>0</td>\n",
       "      <td>0</td>\n",
       "      <td>1</td>\n",
       "      <td>0</td>\n",
       "      <td>...</td>\n",
       "      <td>50009.0</td>\n",
       "      <td>8.974296e+06</td>\n",
       "      <td>0.133635</td>\n",
       "      <td>645240.09120</td>\n",
       "      <td>12.902479</td>\n",
       "      <td>118.842857</td>\n",
       "      <td>0.781319</td>\n",
       "      <td>26.56</td>\n",
       "      <td>32.24</td>\n",
       "      <td>27.55</td>\n",
       "    </tr>\n",
       "    <tr>\n",
       "      <th>2013-04-30</th>\n",
       "      <td>144.00</td>\n",
       "      <td>146.93</td>\n",
       "      <td>134.05</td>\n",
       "      <td>139.00</td>\n",
       "      <td>0.0</td>\n",
       "      <td>1542813125</td>\n",
       "      <td>0</td>\n",
       "      <td>0</td>\n",
       "      <td>0</td>\n",
       "      <td>1</td>\n",
       "      <td>...</td>\n",
       "      <td>48795.0</td>\n",
       "      <td>1.007629e+07</td>\n",
       "      <td>0.176944</td>\n",
       "      <td>525692.91100</td>\n",
       "      <td>10.773500</td>\n",
       "      <td>114.237143</td>\n",
       "      <td>0.384317</td>\n",
       "      <td>27.50</td>\n",
       "      <td>27.50</td>\n",
       "      <td>33.79</td>\n",
       "    </tr>\n",
       "    <tr>\n",
       "      <th>2013-05-01</th>\n",
       "      <td>139.00</td>\n",
       "      <td>139.89</td>\n",
       "      <td>107.72</td>\n",
       "      <td>116.99</td>\n",
       "      <td>0.0</td>\n",
       "      <td>1298954594</td>\n",
       "      <td>1</td>\n",
       "      <td>0</td>\n",
       "      <td>0</td>\n",
       "      <td>0</td>\n",
       "      <td>...</td>\n",
       "      <td>50437.0</td>\n",
       "      <td>1.007629e+07</td>\n",
       "      <td>0.159960</td>\n",
       "      <td>442507.28800</td>\n",
       "      <td>8.773466</td>\n",
       "      <td>110.308571</td>\n",
       "      <td>0.288157</td>\n",
       "      <td>2.77</td>\n",
       "      <td>3.42</td>\n",
       "      <td>19.24</td>\n",
       "    </tr>\n",
       "    <tr>\n",
       "      <th>2013-05-02</th>\n",
       "      <td>116.38</td>\n",
       "      <td>125.60</td>\n",
       "      <td>92.28</td>\n",
       "      <td>105.21</td>\n",
       "      <td>0.0</td>\n",
       "      <td>1168517495</td>\n",
       "      <td>0</td>\n",
       "      <td>0</td>\n",
       "      <td>0</td>\n",
       "      <td>0</td>\n",
       "      <td>...</td>\n",
       "      <td>57278.0</td>\n",
       "      <td>1.007629e+07</td>\n",
       "      <td>0.181150</td>\n",
       "      <td>383775.10965</td>\n",
       "      <td>6.700218</td>\n",
       "      <td>109.820000</td>\n",
       "      <td>0.388055</td>\n",
       "      <td>-13.55</td>\n",
       "      <td>-7.46</td>\n",
       "      <td>-7.29</td>\n",
       "    </tr>\n",
       "  </tbody>\n",
       "</table>\n",
       "<p>5 rows × 29 columns</p>\n",
       "</div>"
      ],
      "text/plain": [
       "            BTC_Open  BTC_High  BTC_Low  BTC_Close  BTC_Volume  \\\n",
       "Date                                                             \n",
       "2013-04-28    135.30    135.98   132.10     134.21         0.0   \n",
       "2013-04-29    134.44    147.49   134.00     144.54         0.0   \n",
       "2013-04-30    144.00    146.93   134.05     139.00         0.0   \n",
       "2013-05-01    139.00    139.89   107.72     116.99         0.0   \n",
       "2013-05-02    116.38    125.60    92.28     105.21         0.0   \n",
       "\n",
       "            BTC_Market_Cap  Holiday  Weekend  wd_1  wd_2     ...       N_tran  \\\n",
       "Date                                                         ...                \n",
       "2013-04-28      1488566728        0        1     0     0     ...      40986.0   \n",
       "2013-04-29      1603768865        0        0     1     0     ...      50009.0   \n",
       "2013-04-30      1542813125        0        0     0     1     ...      48795.0   \n",
       "2013-05-01      1298954594        1        0     0     0     ...      50437.0   \n",
       "2013-05-02      1168517495        0        0     0     0     ...      57278.0   \n",
       "\n",
       "                    Diff  Block_Size        Mi_rev  Cost_tran         MA7  \\\n",
       "Date                                                                        \n",
       "2013-04-28  8.974296e+06    0.120677  572109.88793  13.958666  121.457143   \n",
       "2013-04-29  8.974296e+06    0.133635  645240.09120  12.902479  118.842857   \n",
       "2013-04-30  1.007629e+07    0.176944  525692.91100  10.773500  114.237143   \n",
       "2013-05-01  1.007629e+07    0.159960  442507.28800   8.773466  110.308571   \n",
       "2013-05-02  1.007629e+07    0.181150  383775.10965   6.700218  109.820000   \n",
       "\n",
       "                  SO  Momentum_14  Momentum_7  Momentum_2  \n",
       "Date                                                       \n",
       "2013-04-28  0.543814        19.21       18.30       -4.79  \n",
       "2013-04-29  0.781319        26.56       32.24       27.55  \n",
       "2013-04-30  0.384317        27.50       27.50       33.79  \n",
       "2013-05-01  0.288157         2.77        3.42       19.24  \n",
       "2013-05-02  0.388055       -13.55       -7.46       -7.29  \n",
       "\n",
       "[5 rows x 29 columns]"
      ]
     },
     "execution_count": 86,
     "metadata": {},
     "output_type": "execute_result"
    }
   ],
   "source": [
    "btc_data = pd.read_csv('BTC_DATA_fin.csv', index_col=0) #.set_index('Date').dropna(axis=1)\n",
    "btc_data.head()"
   ]
  },
  {
   "cell_type": "code",
   "execution_count": 87,
   "metadata": {
    "collapsed": true
   },
   "outputs": [],
   "source": [
    "features_train = features[:len(features)-prediction_days]\n",
    "features_test = features[len(features)-prediction_days:]\n",
    "\n",
    "target_train = target[:len(features)-prediction_days]\n",
    "target_test = target[len(features)-prediction_days:]"
   ]
  },
  {
   "cell_type": "code",
   "execution_count": 88,
   "metadata": {
    "collapsed": true
   },
   "outputs": [],
   "source": [
    "scaler = MinMaxScaler(feature_range=(0,1))  \n",
    "min_max_scaler = MinMaxScaler()\n",
    "\n",
    "features_train = pd.DataFrame(min_max_scaler.fit_transform(features_train), \n",
    "                             columns=features_train.columns, \n",
    "                             index=features_train.index)\n",
    "features_test = pd.DataFrame(min_max_scaler.transform(features_test), \n",
    "                             columns=features_test.columns, \n",
    "                             index=features_test.index)"
   ]
  },
  {
   "cell_type": "code",
   "execution_count": 89,
   "metadata": {
    "collapsed": true
   },
   "outputs": [],
   "source": [
    "y_scaler = MinMaxScaler()\n",
    "target_train = y_scaler.fit_transform(target_train.values.reshape(-1, 1))\n",
    "target_test = y_scaler.transform(target_test.values.reshape(-1, 1))"
   ]
  },
  {
   "cell_type": "code",
   "execution_count": 90,
   "metadata": {
    "collapsed": true
   },
   "outputs": [],
   "source": [
    "window_len=7\n",
    "X_train = window_data(features_train, window_len=window_len)\n",
    "X_test = window_data(features_test, window_len=window_len)\n",
    "    \n",
    "\n",
    "y_train = target_train[window_len:]\n",
    "y_test = target_test[window_len:]"
   ]
  },
  {
   "cell_type": "code",
   "execution_count": 91,
   "metadata": {
    "collapsed": true
   },
   "outputs": [],
   "source": [
    "model = Sequential()\n",
    "\n",
    "model.add(LSTM(64, input_shape=(X_train.shape[1], X_train.shape[2]),return_sequences=True))\n",
    "model.add(Dropout(0.3)) #0.2\n",
    "model.add(LSTM(128,return_sequences=False)) #, dropout_W=0.2))\n",
    "model.add(Dropout(0.5)) #0.2\n",
    "model.add(Dense(units=1))\n",
    "model.add(Activation('linear')) #'linear'"
   ]
  },
  {
   "cell_type": "code",
   "execution_count": 92,
   "metadata": {
    "collapsed": true
   },
   "outputs": [],
   "source": [
    "model.compile(loss='mean_squared_error', optimizer='adam')"
   ]
  },
  {
   "cell_type": "code",
   "execution_count": 93,
   "metadata": {
    "collapsed": false
   },
   "outputs": [
    {
     "name": "stdout",
     "output_type": "stream",
     "text": [
      "Train on 1745 samples, validate on 194 samples\n",
      "Epoch 1/30\n",
      "1730/1745 [============================>.] - ETA: 0s - loss: 0.0042Epoch 00001: val_loss improved from inf to 0.00209, saving model to saved_models/LSTM_hz.hdf5\n",
      "1745/1745 [==============================] - 7s 4ms/step - loss: 0.0042 - val_loss: 0.0021\n",
      "Epoch 2/30\n",
      "1730/1745 [============================>.] - ETA: 0s - loss: 0.0018Epoch 00002: val_loss improved from 0.00209 to 0.00065, saving model to saved_models/LSTM_hz.hdf5\n",
      "1745/1745 [==============================] - 5s 3ms/step - loss: 0.0018 - val_loss: 6.5120e-04\n",
      "Epoch 3/30\n",
      "1730/1745 [============================>.] - ETA: 0s - loss: 0.0016Epoch 00003: val_loss did not improve\n",
      "1745/1745 [==============================] - 5s 3ms/step - loss: 0.0016 - val_loss: 0.0040\n",
      "Epoch 4/30\n",
      "1730/1745 [============================>.] - ETA: 0s - loss: 0.0020Epoch 00004: val_loss did not improve\n",
      "1745/1745 [==============================] - 5s 3ms/step - loss: 0.0020 - val_loss: 6.6442e-04\n",
      "Epoch 5/30\n",
      "1730/1745 [============================>.] - ETA: 0s - loss: 0.0011Epoch 00005: val_loss did not improve\n",
      "1745/1745 [==============================] - 6s 3ms/step - loss: 0.0011 - val_loss: 8.2518e-04\n",
      "Epoch 6/30\n",
      "1730/1745 [============================>.] - ETA: 0s - loss: 8.3634e-04Epoch 00006: val_loss did not improve\n",
      "1745/1745 [==============================] - 5s 3ms/step - loss: 8.3335e-04 - val_loss: 0.0023\n",
      "Epoch 7/30\n",
      "1730/1745 [============================>.] - ETA: 0s - loss: 0.0011Epoch 00007: val_loss did not improve\n",
      "1745/1745 [==============================] - 5s 3ms/step - loss: 0.0011 - val_loss: 0.0020\n",
      "Epoch 8/30\n",
      "1730/1745 [============================>.] - ETA: 0s - loss: 9.9961e-04Epoch 00008: val_loss did not improve\n",
      "1745/1745 [==============================] - 5s 3ms/step - loss: 0.0010 - val_loss: 9.2929e-04\n",
      "Epoch 9/30\n",
      "1730/1745 [============================>.] - ETA: 0s - loss: 0.0014Epoch 00009: val_loss did not improve\n",
      "1745/1745 [==============================] - 5s 3ms/step - loss: 0.0013 - val_loss: 0.0015\n",
      "Epoch 10/30\n",
      "1730/1745 [============================>.] - ETA: 0s - loss: 9.6597e-04Epoch 00010: val_loss did not improve\n",
      "1745/1745 [==============================] - 5s 3ms/step - loss: 9.7299e-04 - val_loss: 0.0053\n",
      "Epoch 11/30\n",
      "1730/1745 [============================>.] - ETA: 0s - loss: 8.3138e-04Epoch 00011: val_loss improved from 0.00065 to 0.00031, saving model to saved_models/LSTM_hz.hdf5\n",
      "1745/1745 [==============================] - 5s 3ms/step - loss: 8.3183e-04 - val_loss: 3.0535e-04\n",
      "Epoch 12/30\n",
      "1730/1745 [============================>.] - ETA: 0s - loss: 0.0016Epoch 00012: val_loss did not improve\n",
      "1745/1745 [==============================] - 5s 3ms/step - loss: 0.0016 - val_loss: 0.0075\n",
      "Epoch 13/30\n",
      "1730/1745 [============================>.] - ETA: 0s - loss: 0.0010Epoch 00013: val_loss did not improve\n",
      "1745/1745 [==============================] - 6s 3ms/step - loss: 0.0010 - val_loss: 0.0015\n",
      "Epoch 14/30\n",
      "1730/1745 [============================>.] - ETA: 0s - loss: 7.7481e-04Epoch 00014: val_loss did not improve\n",
      "1745/1745 [==============================] - 6s 3ms/step - loss: 7.7055e-04 - val_loss: 5.6552e-04\n",
      "Epoch 15/30\n",
      "1730/1745 [============================>.] - ETA: 0s - loss: 7.4560e-04Epoch 00015: val_loss did not improve\n",
      "1745/1745 [==============================] - 5s 3ms/step - loss: 7.4367e-04 - val_loss: 0.0030\n",
      "Epoch 16/30\n",
      "1730/1745 [============================>.] - ETA: 0s - loss: 0.0015Epoch 00016: val_loss did not improve\n",
      "1745/1745 [==============================] - 5s 3ms/step - loss: 0.0015 - val_loss: 0.0122\n",
      "Epoch 17/30\n",
      "1730/1745 [============================>.] - ETA: 0s - loss: 0.0013Epoch 00017: val_loss did not improve\n",
      "1745/1745 [==============================] - 5s 3ms/step - loss: 0.0013 - val_loss: 3.3030e-04\n",
      "Epoch 18/30\n",
      "1730/1745 [============================>.] - ETA: 0s - loss: 8.8374e-04Epoch 00018: val_loss did not improve\n",
      "1745/1745 [==============================] - 5s 3ms/step - loss: 8.7705e-04 - val_loss: 4.0364e-04\n",
      "Epoch 19/30\n",
      "1730/1745 [============================>.] - ETA: 0s - loss: 6.9878e-04Epoch 00019: val_loss did not improve\n",
      "1745/1745 [==============================] - 5s 3ms/step - loss: 6.9672e-04 - val_loss: 0.0047\n",
      "Epoch 20/30\n",
      "1730/1745 [============================>.] - ETA: 0s - loss: 7.2159e-04Epoch 00020: val_loss did not improve\n",
      "1745/1745 [==============================] - 5s 3ms/step - loss: 7.2348e-04 - val_loss: 3.5928e-04\n",
      "Epoch 21/30\n",
      "1730/1745 [============================>.] - ETA: 0s - loss: 7.2649e-04Epoch 00021: val_loss did not improve\n",
      "1745/1745 [==============================] - 5s 3ms/step - loss: 7.2176e-04 - val_loss: 6.0307e-04\n",
      "Epoch 22/30\n",
      "1730/1745 [============================>.] - ETA: 0s - loss: 8.0119e-04Epoch 00022: val_loss did not improve\n",
      "1745/1745 [==============================] - 5s 3ms/step - loss: 8.0703e-04 - val_loss: 0.0022\n",
      "Epoch 23/30\n",
      "1730/1745 [============================>.] - ETA: 0s - loss: 7.6535e-04Epoch 00023: val_loss did not improve\n",
      "1745/1745 [==============================] - 5s 3ms/step - loss: 7.6127e-04 - val_loss: 0.0057\n",
      "Epoch 24/30\n",
      "1730/1745 [============================>.] - ETA: 0s - loss: 8.6586e-04Epoch 00024: val_loss did not improve\n",
      "1745/1745 [==============================] - 6s 3ms/step - loss: 8.6097e-04 - val_loss: 0.0082\n",
      "Epoch 25/30\n",
      "1730/1745 [============================>.] - ETA: 0s - loss: 7.0057e-04Epoch 00025: val_loss did not improve\n",
      "1745/1745 [==============================] - 5s 3ms/step - loss: 7.0157e-04 - val_loss: 0.0027\n",
      "Epoch 26/30\n",
      "1730/1745 [============================>.] - ETA: 0s - loss: 7.7272e-04Epoch 00026: val_loss did not improve\n",
      "1745/1745 [==============================] - 5s 3ms/step - loss: 7.6783e-04 - val_loss: 0.0020\n",
      "Epoch 27/30\n",
      "1730/1745 [============================>.] - ETA: 0s - loss: 8.0648e-04Epoch 00027: val_loss did not improve\n",
      "1745/1745 [==============================] - 5s 3ms/step - loss: 8.0104e-04 - val_loss: 0.0147\n",
      "Epoch 28/30\n",
      "1730/1745 [============================>.] - ETA: 0s - loss: 8.8708e-04Epoch 00028: val_loss did not improve\n",
      "1745/1745 [==============================] - 5s 3ms/step - loss: 8.8142e-04 - val_loss: 0.0062\n",
      "Epoch 29/30\n",
      "1730/1745 [============================>.] - ETA: 0s - loss: 6.3912e-04Epoch 00029: val_loss did not improve\n",
      "1745/1745 [==============================] - 5s 3ms/step - loss: 6.4708e-04 - val_loss: 0.0060\n",
      "Epoch 30/30\n",
      "1730/1745 [============================>.] - ETA: 0s - loss: 5.3253e-04Epoch 00030: val_loss did not improve\n",
      "1745/1745 [==============================] - 5s 3ms/step - loss: 5.2863e-04 - val_loss: 0.0025\n"
     ]
    }
   ],
   "source": [
    "from keras.callbacks import ModelCheckpoint  \n",
    "\n",
    "checkpointer = ModelCheckpoint(filepath='saved_models/LSTM_hz.hdf5', \n",
    "                               verbose=1, save_best_only=True)\n",
    "epochs = 30 #100\n",
    "batch_size=10\n",
    "history = model.fit(X_train, y_train, epochs=epochs, batch_size=batch_size, validation_split=0.1, verbose=1, callbacks=[checkpointer]) #valid=0.2#,shuffle=True"
   ]
  },
  {
   "cell_type": "code",
   "execution_count": 94,
   "metadata": {
    "collapsed": false
   },
   "outputs": [
    {
     "data": {
      "image/png": "[encoded data removed]",
      "text/plain": [
       "<matplotlib.figure.Figure at 0x7fec35e716a0>"
      ]
     },
     "metadata": {
      "needs_background": "light"
     },
     "output_type": "display_data"
    }
   ],
   "source": [
    "plt.plot(history.history['loss'], label='train')\n",
    "plt.plot(history.history['val_loss'], label='valid')\n",
    "plt.legend()\n",
    "plt.show()"
   ]
  },
  {
   "cell_type": "code",
   "execution_count": 95,
   "metadata": {
    "collapsed": true
   },
   "outputs": [],
   "source": [
    "preds = model.predict(X_test)"
   ]
  },
  {
   "cell_type": "code",
   "execution_count": 96,
   "metadata": {
    "collapsed": true
   },
   "outputs": [],
   "source": [
    "preds= y_scaler.inverse_transform(preds)"
   ]
  },
  {
   "cell_type": "code",
   "execution_count": 97,
   "metadata": {
    "collapsed": true
   },
   "outputs": [],
   "source": [
    "y_test=y_scaler.inverse_transform(y_test)"
   ]
  },
  {
   "cell_type": "code",
   "execution_count": 98,
   "metadata": {
    "collapsed": false
   },
   "outputs": [
    {
     "data": {
      "image/png": "[encoded data removed]",
      "text/plain": [
       "<matplotlib.figure.Figure at 0x7fec34c38198>"
      ]
     },
     "metadata": {
      "needs_background": "light"
     },
     "output_type": "display_data"
    }
   ],
   "source": [
    "plt.plot(preds, label='prediction')\n",
    "plt.plot(y_test, label='truth')\n",
    "plt.legend()\n",
    "plt.show()"
   ]
  },
  {
   "cell_type": "code",
   "execution_count": 99,
   "metadata": {
    "collapsed": false
   },
   "outputs": [
    {
     "data": {
      "text/plain": [
       "825.76809341010778"
      ]
     },
     "execution_count": 99,
     "metadata": {},
     "output_type": "execute_result"
    }
   ],
   "source": [
    "np.sqrt(mean_squared_error(y_test,preds))"
   ]
  },
  {
   "cell_type": "markdown",
   "metadata": {},
   "source": [
    "# Different windows sizes"
   ]
  },
  {
   "cell_type": "code",
   "execution_count": 12,
   "metadata": {
    "collapsed": true
   },
   "outputs": [],
   "source": [
    "btc_data = pd.read_csv('BTC_DATA_fin.csv', index_col=0) #.set_index('Date').dropna(axis=1)"
   ]
  },
  {
   "cell_type": "code",
   "execution_count": 13,
   "metadata": {
    "collapsed": true
   },
   "outputs": [],
   "source": [
    "features_train = features[:len(features)-prediction_days]\n",
    "features_test = features[len(features)-prediction_days:]\n",
    "\n",
    "target_train = target[:len(features)-prediction_days]\n",
    "target_test = target[len(features)-prediction_days:]"
   ]
  },
  {
   "cell_type": "code",
   "execution_count": 14,
   "metadata": {
    "collapsed": true
   },
   "outputs": [],
   "source": [
    "scaler = MinMaxScaler(feature_range=(0,1))  \n",
    "min_max_scaler = MinMaxScaler()\n",
    "\n",
    "features_train = pd.DataFrame(min_max_scaler.fit_transform(features_train), \n",
    "                             columns=features_train.columns, \n",
    "                             index=features_train.index)\n",
    "features_test = pd.DataFrame(min_max_scaler.transform(features_test), \n",
    "                             columns=features_test.columns, \n",
    "                             index=features_test.index)\n",
    "y_scaler = MinMaxScaler()\n",
    "target_train = y_scaler.fit_transform(target_train.values.reshape(-1, 1))\n",
    "target_test = y_scaler.transform(target_test.values.reshape(-1, 1))"
   ]
  },
  {
   "cell_type": "code",
   "execution_count": 15,
   "metadata": {
    "collapsed": true
   },
   "outputs": [],
   "source": [
    "window_len=7\n",
    "X_train = window_data(features_train, window_len=window_len)\n",
    "X_test = window_data(features_test, window_len=window_len)\n",
    "    \n",
    "\n",
    "y_train = target_train[window_len:]\n",
    "y_test = target_test[window_len:]"
   ]
  },
  {
   "cell_type": "code",
   "execution_count": 17,
   "metadata": {
    "collapsed": true
   },
   "outputs": [],
   "source": [
    "model = Sequential()\n",
    "\n",
    "model.add(LSTM(30, input_shape=(X_train.shape[1], X_train.shape[2]),return_sequences=True))\n",
    "model.add(Dropout(0.3)) #0.2\n",
    "model.add(LSTM(60,return_sequences=False)) #, dropout_W=0.2))\n",
    "model.add(Dropout(0.5)) #0.2\n",
    "model.add(Dense(units=1))\n",
    "model.add(Activation('linear')) #'linear'"
   ]
  },
  {
   "cell_type": "code",
   "execution_count": 18,
   "metadata": {
    "collapsed": true
   },
   "outputs": [],
   "source": [
    "model.compile(loss='mean_squared_error', optimizer='adam')"
   ]
  },
  {
   "cell_type": "code",
   "execution_count": 20,
   "metadata": {
    "collapsed": false
   },
   "outputs": [
    {
     "name": "stdout",
     "output_type": "stream",
     "text": [
      "Train on 1745 samples, validate on 194 samples\n",
      "Epoch 1/50\n",
      "1730/1745 [============================>.] - ETA: 0s - loss: 0.0048Epoch 00001: val_loss improved from inf to 0.01428, saving model to saved_models/LSTM_stacked7.hdf5\n",
      "1745/1745 [==============================] - 3s 2ms/step - loss: 0.0048 - val_loss: 0.0143\n",
      "Epoch 2/50\n",
      "1720/1745 [============================>.] - ETA: 0s - loss: 0.0021Epoch 00002: val_loss improved from 0.01428 to 0.00211, saving model to saved_models/LSTM_stacked7.hdf5\n",
      "1745/1745 [==============================] - 3s 1ms/step - loss: 0.0021 - val_loss: 0.0021\n",
      "Epoch 3/50\n",
      "1730/1745 [============================>.] - ETA: 0s - loss: 0.0020Epoch 00003: val_loss did not improve\n",
      "1745/1745 [==============================] - 2s 1ms/step - loss: 0.0020 - val_loss: 0.0034\n",
      "Epoch 4/50\n",
      "1730/1745 [============================>.] - ETA: 0s - loss: 0.0020Epoch 00004: val_loss improved from 0.00211 to 0.00099, saving model to saved_models/LSTM_stacked7.hdf5\n",
      "1745/1745 [==============================] - 3s 2ms/step - loss: 0.0019 - val_loss: 9.8505e-04\n",
      "Epoch 5/50\n",
      "1720/1745 [============================>.] - ETA: 0s - loss: 0.0012Epoch 00005: val_loss did not improve\n",
      "1745/1745 [==============================] - 2s 1ms/step - loss: 0.0012 - val_loss: 0.0029\n",
      "Epoch 6/50\n",
      "1730/1745 [============================>.] - ETA: 0s - loss: 0.0015Epoch 00006: val_loss did not improve\n",
      "1745/1745 [==============================] - 3s 1ms/step - loss: 0.0015 - val_loss: 0.0079\n",
      "Epoch 7/50\n",
      "1730/1745 [============================>.] - ETA: 0s - loss: 0.0015Epoch 00007: val_loss did not improve\n",
      "1745/1745 [==============================] - 3s 2ms/step - loss: 0.0015 - val_loss: 0.0017\n",
      "Epoch 8/50\n",
      "1740/1745 [============================>.] - ETA: 0s - loss: 0.0014Epoch 00008: val_loss did not improve\n",
      "1745/1745 [==============================] - 3s 2ms/step - loss: 0.0014 - val_loss: 0.0022\n",
      "Epoch 9/50\n",
      "1730/1745 [============================>.] - ETA: 0s - loss: 0.0017Epoch 00009: val_loss did not improve\n",
      "1745/1745 [==============================] - 3s 1ms/step - loss: 0.0017 - val_loss: 0.0011\n",
      "Epoch 10/50\n",
      "1740/1745 [============================>.] - ETA: 0s - loss: 0.0013Epoch 00010: val_loss improved from 0.00099 to 0.00092, saving model to saved_models/LSTM_stacked7.hdf5\n",
      "1745/1745 [==============================] - 3s 2ms/step - loss: 0.0013 - val_loss: 9.2243e-04\n",
      "Epoch 11/50\n",
      "1720/1745 [============================>.] - ETA: 0s - loss: 0.0013Epoch 00011: val_loss did not improve\n",
      "1745/1745 [==============================] - 3s 2ms/step - loss: 0.0013 - val_loss: 0.0016\n",
      "Epoch 12/50\n",
      "1730/1745 [============================>.] - ETA: 0s - loss: 0.0013Epoch 00012: val_loss improved from 0.00092 to 0.00051, saving model to saved_models/LSTM_stacked7.hdf5\n",
      "1745/1745 [==============================] - 3s 1ms/step - loss: 0.0013 - val_loss: 5.1006e-04\n",
      "Epoch 13/50\n",
      "1730/1745 [============================>.] - ETA: 0s - loss: 0.0012Epoch 00013: val_loss did not improve\n",
      "1745/1745 [==============================] - 2s 1ms/step - loss: 0.0012 - val_loss: 0.0020\n",
      "Epoch 14/50\n",
      "1710/1745 [============================>.] - ETA: 0s - loss: 9.0690e-04Epoch 00014: val_loss did not improve\n",
      "1745/1745 [==============================] - 3s 2ms/step - loss: 8.9812e-04 - val_loss: 0.0020\n",
      "Epoch 15/50\n",
      "1710/1745 [============================>.] - ETA: 0s - loss: 0.0011Epoch 00015: val_loss did not improve\n",
      "1745/1745 [==============================] - 3s 2ms/step - loss: 0.0011 - val_loss: 0.0059\n",
      "Epoch 16/50\n",
      "1720/1745 [============================>.] - ETA: 0s - loss: 0.0011Epoch 00016: val_loss did not improve\n",
      "1745/1745 [==============================] - 3s 2ms/step - loss: 0.0011 - val_loss: 0.0017\n",
      "Epoch 17/50\n",
      "1720/1745 [============================>.] - ETA: 0s - loss: 8.8918e-04Epoch 00017: val_loss did not improve\n",
      "1745/1745 [==============================] - 3s 2ms/step - loss: 8.8238e-04 - val_loss: 5.2830e-04\n",
      "Epoch 18/50\n",
      "1730/1745 [============================>.] - ETA: 0s - loss: 0.0010    Epoch 00018: val_loss improved from 0.00051 to 0.00048, saving model to saved_models/LSTM_stacked7.hdf5\n",
      "1745/1745 [==============================] - 3s 1ms/step - loss: 0.0010 - val_loss: 4.7863e-04\n",
      "Epoch 19/50\n",
      "1730/1745 [============================>.] - ETA: 0s - loss: 0.0015Epoch 00019: val_loss improved from 0.00048 to 0.00039, saving model to saved_models/LSTM_stacked7.hdf5\n",
      "1745/1745 [==============================] - 3s 1ms/step - loss: 0.0015 - val_loss: 3.8583e-04\n",
      "Epoch 20/50\n",
      "1720/1745 [============================>.] - ETA: 0s - loss: 0.0013Epoch 00020: val_loss did not improve\n",
      "1745/1745 [==============================] - 3s 2ms/step - loss: 0.0013 - val_loss: 0.0012\n",
      "Epoch 21/50\n",
      "1730/1745 [============================>.] - ETA: 0s - loss: 0.0010    Epoch 00021: val_loss did not improve\n",
      "1745/1745 [==============================] - 3s 1ms/step - loss: 9.9881e-04 - val_loss: 0.0030\n",
      "Epoch 22/50\n",
      "1730/1745 [============================>.] - ETA: 0s - loss: 0.0012Epoch 00022: val_loss did not improve\n",
      "1745/1745 [==============================] - 3s 1ms/step - loss: 0.0012 - val_loss: 0.0038\n",
      "Epoch 23/50\n",
      "1730/1745 [============================>.] - ETA: 0s - loss: 0.0012Epoch 00023: val_loss did not improve\n",
      "1745/1745 [==============================] - 3s 1ms/step - loss: 0.0012 - val_loss: 0.0044\n",
      "Epoch 24/50\n",
      "1730/1745 [============================>.] - ETA: 0s - loss: 8.4067e-04Epoch 00024: val_loss did not improve\n",
      "1745/1745 [==============================] - 2s 1ms/step - loss: 8.4744e-04 - val_loss: 0.0013\n",
      "Epoch 25/50\n",
      "1730/1745 [============================>.] - ETA: 0s - loss: 8.9907e-04Epoch 00025: val_loss did not improve\n",
      "1745/1745 [==============================] - 3s 2ms/step - loss: 8.9315e-04 - val_loss: 0.0020\n",
      "Epoch 26/50\n",
      "1730/1745 [============================>.] - ETA: 0s - loss: 0.0010Epoch 00026: val_loss did not improve\n",
      "1745/1745 [==============================] - 3s 1ms/step - loss: 0.0010 - val_loss: 0.0031\n",
      "Epoch 27/50\n",
      "1730/1745 [============================>.] - ETA: 0s - loss: 9.3717e-04Epoch 00027: val_loss did not improve\n",
      "1745/1745 [==============================] - 3s 2ms/step - loss: 9.6257e-04 - val_loss: 0.0014\n",
      "Epoch 28/50\n",
      "1720/1745 [============================>.] - ETA: 0s - loss: 8.9384e-04Epoch 00028: val_loss did not improve\n",
      "1745/1745 [==============================] - 3s 2ms/step - loss: 8.9447e-04 - val_loss: 7.1779e-04\n",
      "Epoch 29/50\n",
      "1720/1745 [============================>.] - ETA: 0s - loss: 7.4783e-04Epoch 00029: val_loss did not improve\n",
      "1745/1745 [==============================] - 3s 2ms/step - loss: 7.3919e-04 - val_loss: 0.0018\n",
      "Epoch 30/50\n",
      "1730/1745 [============================>.] - ETA: 0s - loss: 8.6910e-04Epoch 00030: val_loss did not improve\n",
      "1745/1745 [==============================] - 3s 1ms/step - loss: 8.7257e-04 - val_loss: 0.0012\n",
      "Epoch 31/50\n",
      "1730/1745 [============================>.] - ETA: 0s - loss: 9.0487e-04Epoch 00031: val_loss did not improve\n",
      "1745/1745 [==============================] - 3s 1ms/step - loss: 9.0377e-04 - val_loss: 0.0014\n",
      "Epoch 32/50\n",
      "1730/1745 [============================>.] - ETA: 0s - loss: 0.0010Epoch 00032: val_loss did not improve\n",
      "1745/1745 [==============================] - 2s 1ms/step - loss: 0.0010 - val_loss: 4.8840e-04\n",
      "Epoch 33/50\n",
      "1730/1745 [============================>.] - ETA: 0s - loss: 0.0010Epoch 00033: val_loss did not improve\n",
      "1745/1745 [==============================] - 2s 1ms/step - loss: 0.0010 - val_loss: 6.2284e-04\n",
      "Epoch 34/50\n",
      "1730/1745 [============================>.] - ETA: 0s - loss: 9.4080e-04Epoch 00034: val_loss did not improve\n",
      "1745/1745 [==============================] - 3s 1ms/step - loss: 9.3396e-04 - val_loss: 0.0017\n",
      "Epoch 35/50\n",
      "1730/1745 [============================>.] - ETA: 0s - loss: 8.9854e-04Epoch 00035: val_loss did not improve\n",
      "1745/1745 [==============================] - 3s 1ms/step - loss: 8.9300e-04 - val_loss: 0.0041\n",
      "Epoch 36/50\n",
      "1730/1745 [============================>.] - ETA: 0s - loss: 9.1273e-04Epoch 00036: val_loss did not improve\n",
      "1745/1745 [==============================] - 3s 1ms/step - loss: 9.0840e-04 - val_loss: 0.0017\n",
      "Epoch 37/50\n",
      "1730/1745 [============================>.] - ETA: 0s - loss: 8.2358e-04Epoch 00037: val_loss did not improve\n",
      "1745/1745 [==============================] - 2s 1ms/step - loss: 8.4198e-04 - val_loss: 0.0017\n",
      "Epoch 38/50\n",
      "1730/1745 [============================>.] - ETA: 0s - loss: 9.0961e-04Epoch 00038: val_loss did not improve\n",
      "1745/1745 [==============================] - 2s 1ms/step - loss: 9.0387e-04 - val_loss: 0.0042\n",
      "Epoch 39/50\n",
      "1730/1745 [============================>.] - ETA: 0s - loss: 7.8875e-04Epoch 00039: val_loss did not improve\n",
      "1745/1745 [==============================] - 3s 2ms/step - loss: 8.1512e-04 - val_loss: 0.0031\n",
      "Epoch 40/50\n",
      "1720/1745 [============================>.] - ETA: 0s - loss: 6.8540e-04Epoch 00040: val_loss did not improve\n",
      "1745/1745 [==============================] - 3s 2ms/step - loss: 6.8003e-04 - val_loss: 3.9605e-04\n",
      "Epoch 41/50\n",
      "1720/1745 [============================>.] - ETA: 0s - loss: 6.0383e-04Epoch 00041: val_loss did not improve\n",
      "1745/1745 [==============================] - 3s 1ms/step - loss: 6.0238e-04 - val_loss: 0.0018\n",
      "Epoch 42/50\n",
      "1730/1745 [============================>.] - ETA: 0s - loss: 8.1439e-04Epoch 00042: val_loss did not improve\n",
      "1745/1745 [==============================] - 2s 1ms/step - loss: 8.0937e-04 - val_loss: 5.6894e-04\n",
      "Epoch 43/50\n",
      "1730/1745 [============================>.] - ETA: 0s - loss: 6.1174e-04Epoch 00043: val_loss improved from 0.00039 to 0.00029, saving model to saved_models/LSTM_stacked7.hdf5\n",
      "1745/1745 [==============================] - 3s 1ms/step - loss: 6.0727e-04 - val_loss: 2.9128e-04\n",
      "Epoch 44/50\n",
      "1730/1745 [============================>.] - ETA: 0s - loss: 6.6960e-04Epoch 00044: val_loss did not improve\n",
      "1745/1745 [==============================] - 2s 1ms/step - loss: 6.6563e-04 - val_loss: 0.0016\n",
      "Epoch 45/50\n",
      "1730/1745 [============================>.] - ETA: 0s - loss: 6.1117e-04Epoch 00045: val_loss did not improve\n",
      "1745/1745 [==============================] - 3s 1ms/step - loss: 6.1374e-04 - val_loss: 0.0052\n",
      "Epoch 46/50\n",
      "1730/1745 [============================>.] - ETA: 0s - loss: 8.0755e-04Epoch 00046: val_loss did not improve\n",
      "1745/1745 [==============================] - 2s 1ms/step - loss: 8.0585e-04 - val_loss: 0.0078\n",
      "Epoch 47/50\n",
      "1730/1745 [============================>.] - ETA: 0s - loss: 8.5852e-04Epoch 00047: val_loss did not improve\n",
      "1745/1745 [==============================] - 3s 1ms/step - loss: 8.5327e-04 - val_loss: 5.8719e-04\n",
      "Epoch 48/50\n",
      "1730/1745 [============================>.] - ETA: 0s - loss: 6.6818e-04Epoch 00048: val_loss did not improve\n",
      "1745/1745 [==============================] - 3s 1ms/step - loss: 6.8023e-04 - val_loss: 0.0051\n",
      "Epoch 49/50\n",
      "1720/1745 [============================>.] - ETA: 0s - loss: 0.0011Epoch 00049: val_loss did not improve\n",
      "1745/1745 [==============================] - 3s 1ms/step - loss: 0.0011 - val_loss: 6.3806e-04\n",
      "Epoch 50/50\n",
      "1730/1745 [============================>.] - ETA: 0s - loss: 8.0294e-04Epoch 00050: val_loss did not improve\n",
      "1745/1745 [==============================] - 3s 1ms/step - loss: 8.0165e-04 - val_loss: 0.0030\n"
     ]
    }
   ],
   "source": [
    "from keras.callbacks import ModelCheckpoint  \n",
    "\n",
    "checkpointer = ModelCheckpoint(filepath='saved_models/LSTM_stacked7.hdf5', \n",
    "                               verbose=1, save_best_only=True)\n",
    "epochs = 50 #100\n",
    "batch_size=10\n",
    "history = model.fit(X_train, y_train, epochs=epochs, batch_size=batch_size, validation_split=0.1, verbose=1, callbacks=[checkpointer]) #valid=0.2#,shuffle=True"
   ]
  },
  {
   "cell_type": "markdown",
   "metadata": {},
   "source": [
    "# WINDOWS SIZE = 1"
   ]
  },
  {
   "cell_type": "code",
   "execution_count": 222,
   "metadata": {
    "collapsed": true
   },
   "outputs": [],
   "source": [
    "model_name = 'saved_models/LSTM_stacked1.hdf5'\n",
    "model.load_weights(model_name)"
   ]
  },
  {
   "cell_type": "code",
   "execution_count": 223,
   "metadata": {
    "collapsed": false
   },
   "outputs": [
    {
     "data": {
      "image/png": "[encoded data removed]",
      "text/plain": [
       "<matplotlib.figure.Figure at 0x7fec1fd58358>"
      ]
     },
     "metadata": {
      "needs_background": "light"
     },
     "output_type": "display_data"
    }
   ],
   "source": [
    "preds = model.predict(X_test)\n",
    "preds= y_scaler.inverse_transform(preds)\n",
    "y_test=y_scaler.inverse_transform(y_test)\n",
    "plt.plot(preds, label='prediction')\n",
    "plt.plot(y_test, label='truth')\n",
    "plt.legend()\n",
    "plt.show()"
   ]
  },
  {
   "cell_type": "code",
   "execution_count": 224,
   "metadata": {
    "collapsed": false
   },
   "outputs": [
    {
     "data": {
      "text/plain": [
       "271.0293846533724"
      ]
     },
     "execution_count": 224,
     "metadata": {},
     "output_type": "execute_result"
    }
   ],
   "source": [
    "np.sqrt(mean_squared_error(y_test,preds))"
   ]
  },
  {
   "cell_type": "markdown",
   "metadata": {},
   "source": [
    "# WINDOWS SIZE = 3"
   ]
  },
  {
   "cell_type": "code",
   "execution_count": 212,
   "metadata": {
    "collapsed": true
   },
   "outputs": [],
   "source": [
    "model_name = 'saved_models/LSTM_stacked3.hdf5'\n",
    "model.load_weights(model_name)"
   ]
  },
  {
   "cell_type": "code",
   "execution_count": 213,
   "metadata": {
    "collapsed": false
   },
   "outputs": [
    {
     "data": {
      "image/png": "[encoded data removed]",
      "text/plain": [
       "<matplotlib.figure.Figure at 0x7fec21525518>"
      ]
     },
     "metadata": {
      "needs_background": "light"
     },
     "output_type": "display_data"
    }
   ],
   "source": [
    "preds = model.predict(X_test)\n",
    "preds= y_scaler.inverse_transform(preds)\n",
    "y_test=y_scaler.inverse_transform(y_test)\n",
    "plt.plot(preds, label='prediction')\n",
    "plt.plot(y_test, label='truth')\n",
    "plt.legend()\n",
    "plt.show()"
   ]
  },
  {
   "cell_type": "code",
   "execution_count": 214,
   "metadata": {
    "collapsed": false
   },
   "outputs": [
    {
     "data": {
      "text/plain": [
       "175.51515122644432"
      ]
     },
     "execution_count": 214,
     "metadata": {},
     "output_type": "execute_result"
    }
   ],
   "source": [
    "np.sqrt(mean_squared_error(y_test,preds))"
   ]
  },
  {
   "cell_type": "markdown",
   "metadata": {},
   "source": [
    "# WINDOWS SIZE = 5"
   ]
  },
  {
   "cell_type": "code",
   "execution_count": 202,
   "metadata": {
    "collapsed": true
   },
   "outputs": [],
   "source": [
    "model_name = 'saved_models/LSTM_stacked5.hdf5'\n",
    "model.load_weights(model_name)"
   ]
  },
  {
   "cell_type": "code",
   "execution_count": 203,
   "metadata": {
    "collapsed": false
   },
   "outputs": [
    {
     "data": {
      "image/png": "[encoded data removed]",
      "text/plain": [
       "<matplotlib.figure.Figure at 0x7fec22ce9c50>"
      ]
     },
     "metadata": {
      "needs_background": "light"
     },
     "output_type": "display_data"
    }
   ],
   "source": [
    "preds = model.predict(X_test)\n",
    "preds= y_scaler.inverse_transform(preds)\n",
    "y_test=y_scaler.inverse_transform(y_test)\n",
    "plt.plot(preds, label='prediction')\n",
    "plt.plot(y_test, label='truth')\n",
    "plt.legend()\n",
    "plt.show()"
   ]
  },
  {
   "cell_type": "code",
   "execution_count": 204,
   "metadata": {
    "collapsed": false
   },
   "outputs": [
    {
     "data": {
      "text/plain": [
       "228.50644241224546"
      ]
     },
     "execution_count": 204,
     "metadata": {},
     "output_type": "execute_result"
    }
   ],
   "source": [
    "np.sqrt(mean_squared_error(y_test,preds))"
   ]
  },
  {
   "cell_type": "markdown",
   "metadata": {},
   "source": [
    "# WINDOWS SIZE = 7"
   ]
  },
  {
   "cell_type": "code",
   "execution_count": 21,
   "metadata": {
    "collapsed": true
   },
   "outputs": [],
   "source": [
    "model_name = 'saved_models/LSTM_stacked7.hdf5'\n",
    "model.load_weights(model_name)"
   ]
  },
  {
   "cell_type": "code",
   "execution_count": 22,
   "metadata": {
    "collapsed": false
   },
   "outputs": [
    {
     "data": {
      "image/png": "[encoded data removed]",
      "text/plain": [
       "<matplotlib.figure.Figure at 0x7fcafe0ad780>"
      ]
     },
     "metadata": {
      "needs_background": "light"
     },
     "output_type": "display_data"
    }
   ],
   "source": [
    "preds = model.predict(X_test)\n",
    "preds= y_scaler.inverse_transform(preds)\n",
    "y_test=y_scaler.inverse_transform(y_test)\n",
    "plt.plot(preds, label='prediction')\n",
    "plt.plot(y_test, label='truth')\n",
    "plt.legend()\n",
    "plt.show()"
   ]
  },
  {
   "cell_type": "code",
   "execution_count": 23,
   "metadata": {
    "collapsed": false
   },
   "outputs": [
    {
     "data": {
      "text/plain": [
       "565.53120029104662"
      ]
     },
     "execution_count": 23,
     "metadata": {},
     "output_type": "execute_result"
    }
   ],
   "source": [
    "np.sqrt(mean_squared_error(y_test,preds))"
   ]
  },
  {
   "cell_type": "markdown",
   "metadata": {},
   "source": [
    "# WINDOWS SIZE = 10"
   ]
  },
  {
   "cell_type": "code",
   "execution_count": 182,
   "metadata": {
    "collapsed": true
   },
   "outputs": [],
   "source": [
    "model_name = 'saved_models/LSTM_stacked10.hdf5'"
   ]
  },
  {
   "cell_type": "code",
   "execution_count": 183,
   "metadata": {
    "collapsed": true
   },
   "outputs": [],
   "source": [
    "model.load_weights(model_name)"
   ]
  },
  {
   "cell_type": "code",
   "execution_count": 179,
   "metadata": {
    "collapsed": true
   },
   "outputs": [],
   "source": [
    "preds = model.predict(X_test)\n",
    "preds= y_scaler.inverse_transform(preds)\n",
    "y_test=y_scaler.inverse_transform(y_test)"
   ]
  },
  {
   "cell_type": "code",
   "execution_count": 180,
   "metadata": {
    "collapsed": false
   },
   "outputs": [
    {
     "data": {
      "image/png": "[encoded data removed]",
      "text/plain": [
       "<matplotlib.figure.Figure at 0x7fec26b31828>"
      ]
     },
     "metadata": {
      "needs_background": "light"
     },
     "output_type": "display_data"
    }
   ],
   "source": [
    "plt.plot(preds, label='prediction')\n",
    "plt.plot(y_test, label='truth')\n",
    "plt.legend()\n",
    "plt.show()"
   ]
  },
  {
   "cell_type": "code",
   "execution_count": 181,
   "metadata": {
    "collapsed": false
   },
   "outputs": [
    {
     "data": {
      "text/plain": [
       "573.3874849030318"
      ]
     },
     "execution_count": 181,
     "metadata": {},
     "output_type": "execute_result"
    }
   ],
   "source": [
    "np.sqrt(mean_squared_error(y_test,preds))"
   ]
  },
  {
   "cell_type": "markdown",
   "metadata": {},
   "source": [
    "'saved_models/LSTM_stacked7_128256.hdf5' error 203"
   ]
  },
  {
   "cell_type": "markdown",
   "metadata": {},
   "source": [
    "# WINDOWS SIZE = 14"
   ]
  },
  {
   "cell_type": "code",
   "execution_count": 192,
   "metadata": {
    "collapsed": true
   },
   "outputs": [],
   "source": [
    "model_name = 'saved_models/LSTM_stacked10.hdf5'\n",
    "model.load_weights(model_name)"
   ]
  },
  {
   "cell_type": "code",
   "execution_count": 193,
   "metadata": {
    "collapsed": false
   },
   "outputs": [
    {
     "data": {
      "image/png": "[encoded data removed]",
      "text/plain": [
       "<matplotlib.figure.Figure at 0x7fec2b58d8d0>"
      ]
     },
     "metadata": {
      "needs_background": "light"
     },
     "output_type": "display_data"
    }
   ],
   "source": [
    "preds = model.predict(X_test)\n",
    "preds= y_scaler.inverse_transform(preds)\n",
    "y_test=y_scaler.inverse_transform(y_test)\n",
    "plt.plot(preds, label='prediction')\n",
    "plt.plot(y_test, label='truth')\n",
    "plt.legend()\n",
    "plt.show()"
   ]
  },
  {
   "cell_type": "code",
   "execution_count": 194,
   "metadata": {
    "collapsed": false
   },
   "outputs": [
    {
     "data": {
      "text/plain": [
       "324.24267261779994"
      ]
     },
     "execution_count": 194,
     "metadata": {},
     "output_type": "execute_result"
    }
   ],
   "source": [
    "np.sqrt(mean_squared_error(y_test,preds))"
   ]
  },
  {
   "cell_type": "markdown",
   "metadata": {},
   "source": [
    "# WINDOWS SIZE = 30"
   ]
  },
  {
   "cell_type": "code",
   "execution_count": 232,
   "metadata": {
    "collapsed": true
   },
   "outputs": [],
   "source": [
    "model_name = 'saved_models/LSTM_stacked30.hdf5'\n",
    "model.load_weights(model_name)"
   ]
  },
  {
   "cell_type": "code",
   "execution_count": 233,
   "metadata": {
    "collapsed": false
   },
   "outputs": [
    {
     "data": {
      "image/png": "[encoded data removed]",
      "text/plain": [
       "<matplotlib.figure.Figure at 0x7fec1e913b00>"
      ]
     },
     "metadata": {
      "needs_background": "light"
     },
     "output_type": "display_data"
    }
   ],
   "source": [
    "preds = model.predict(X_test)\n",
    "preds= y_scaler.inverse_transform(preds)\n",
    "y_test=y_scaler.inverse_transform(y_test)\n",
    "plt.plot(preds, label='prediction')\n",
    "plt.plot(y_test, label='truth')\n",
    "plt.legend()\n",
    "plt.show()"
   ]
  },
  {
   "cell_type": "code",
   "execution_count": 234,
   "metadata": {
    "collapsed": false
   },
   "outputs": [
    {
     "data": {
      "text/plain": [
       "189.69615091050716"
      ]
     },
     "execution_count": 234,
     "metadata": {},
     "output_type": "execute_result"
    }
   ],
   "source": [
    "np.sqrt(mean_squared_error(y_test,preds))"
   ]
  },
  {
   "cell_type": "markdown",
   "metadata": {},
   "source": [
    "# WINDOWS SIZE = 60"
   ]
  },
  {
   "cell_type": "code",
   "execution_count": 242,
   "metadata": {
    "collapsed": true
   },
   "outputs": [],
   "source": [
    "model_name = 'saved_models/LSTM_stacked60.hdf5'\n",
    "model.load_weights(model_name)"
   ]
  },
  {
   "cell_type": "code",
   "execution_count": 243,
   "metadata": {
    "collapsed": false
   },
   "outputs": [
    {
     "data": {
      "image/png": "[encoded data removed]",
      "text/plain": [
       "<matplotlib.figure.Figure at 0x7fec1b84d2b0>"
      ]
     },
     "metadata": {
      "needs_background": "light"
     },
     "output_type": "display_data"
    }
   ],
   "source": [
    "preds = model.predict(X_test)#.squeeze()\n",
    "preds= y_scaler.inverse_transform(preds)\n",
    "y_test=y_scaler.inverse_transform(y_test)\n",
    "plt.plot(preds, label='prediction')\n",
    "plt.plot(y_test, label='truth')\n",
    "plt.legend()\n",
    "plt.show()"
   ]
  },
  {
   "cell_type": "code",
   "execution_count": 244,
   "metadata": {
    "collapsed": false
   },
   "outputs": [
    {
     "data": {
      "text/plain": [
       "392.85894218882976"
      ]
     },
     "execution_count": 244,
     "metadata": {},
     "output_type": "execute_result"
    }
   ],
   "source": [
    "np.sqrt(mean_squared_error(y_test,preds))"
   ]
  }
 ],
 "metadata": {
  "kernelspec": {
   "display_name": "Python 3",
   "language": "python",
   "name": "python3"
  },
  "language_info": {
   "codemirror_mode": {
    "name": "ipython",
    "version": 3
   },
   "file_extension": ".py",
   "mimetype": "text/x-python",
   "name": "python",
   "nbconvert_exporter": "python",
   "pygments_lexer": "ipython3",
   "version": "3.5.2"
  }
 },
 "nbformat": 4,
 "nbformat_minor": 2
}
