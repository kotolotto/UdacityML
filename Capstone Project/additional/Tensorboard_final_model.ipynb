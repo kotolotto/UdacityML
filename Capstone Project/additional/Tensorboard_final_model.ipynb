{
 "cells": [
  {
   "cell_type": "code",
   "execution_count": 1,
   "metadata": {
    "collapsed": false
   },
   "outputs": [
    {
     "name": "stderr",
     "output_type": "stream",
     "text": [
      "Using TensorFlow backend.\n"
     ]
    }
   ],
   "source": [
    "#import seaborn as sns\n",
    "from sklearn.metrics import mean_squared_error\n",
    "#from datetime import date\n",
    "import numpy as np \n",
    "import pandas as pd \n",
    "#import gc\n",
    "import datetime\n",
    "#import time\n",
    "import csv\n",
    "from sklearn.preprocessing import MinMaxScaler\n",
    "#import os\n",
    "import matplotlib.pyplot as plt\n",
    "import random\n",
    "import mylibs as l\n",
    "from sklearn.linear_model import LinearRegression\n",
    "\n",
    "\n",
    "from keras.models import Sequential\n",
    "from keras.layers import Dense, Dropout, LSTM, Activation\n",
    "\n",
    "\n",
    "#sns.set_palette('Set2')\n",
    "%matplotlib inline"
   ]
  },
  {
   "cell_type": "code",
   "execution_count": 2,
   "metadata": {
    "collapsed": true
   },
   "outputs": [],
   "source": [
    "btc_data = pd.read_csv('BTC_DATA_fin.csv', index_col=0)\n",
    "btc_data.index = pd.to_datetime(btc_data.index)"
   ]
  },
  {
   "cell_type": "code",
   "execution_count": 3,
   "metadata": {
    "collapsed": false
   },
   "outputs": [],
   "source": [
    "from keras.callbacks import TensorBoard"
   ]
  },
  {
   "cell_type": "code",
   "execution_count": 4,
   "metadata": {
    "collapsed": true
   },
   "outputs": [],
   "source": [
    "btc_data=btc_data[['BTC_Open', 'BTC_High', 'BTC_Low', 'BTC_Close', 'BTC_Volume',\n",
    "       'BTC_Market_Cap','Holiday', 'MA7', 'SO',\n",
    "       'Momentum_14', 'Momentum_7', 'Momentum_2']]\n",
    "#shift data\n",
    "features = btc_data.shift(1).dropna() #.drop('BTC_Close', 1)\n",
    "target = btc_data['BTC_Close'][1:]\n",
    "prediction_days = 90"
   ]
  },
  {
   "cell_type": "code",
   "execution_count": 5,
   "metadata": {
    "collapsed": true
   },
   "outputs": [],
   "source": [
    "features_train = features[:len(features)-prediction_days]\n",
    "features_test = features[len(features)-prediction_days:]\n",
    "\n",
    "target_train = target[:len(features)-prediction_days]\n",
    "target_test = target[len(features)-prediction_days:]"
   ]
  },
  {
   "cell_type": "code",
   "execution_count": 6,
   "metadata": {
    "collapsed": true
   },
   "outputs": [],
   "source": [
    "X_min_max_scaler = MinMaxScaler()\n",
    "y_min_max_scaler = MinMaxScaler()\n",
    "features_train_scaled = pd.DataFrame(X_min_max_scaler.fit_transform(features_train), \n",
    "                                     columns=features_train.columns, index=features_train.index)\n",
    "features_test_scaled = pd.DataFrame(X_min_max_scaler.transform(features_test),\n",
    "                                    columns=features_test.columns,index=features_test.index)\n",
    "target_train_scaled = y_min_max_scaler.fit_transform(target_train.values.reshape(-1, 1))\n",
    "target_test_scaled = y_min_max_scaler.transform(target_test.values.reshape(-1, 1))"
   ]
  },
  {
   "cell_type": "code",
   "execution_count": 7,
   "metadata": {
    "collapsed": true
   },
   "outputs": [],
   "source": [
    "tensorboard = TensorBoard(log_dir='./logs', histogram_freq=0,\n",
    "                      write_graph=True, write_images=True) #write_images=False"
   ]
  },
  {
   "cell_type": "code",
   "execution_count": 8,
   "metadata": {
    "collapsed": true
   },
   "outputs": [],
   "source": [
    "def window_data(df, window_len):\n",
    "    window_data = []\n",
    "    for i in range(len(df) - window_len):\n",
    "        tmp = df[i: (i + window_len)].copy()\n",
    "        window_data.append(tmp.values)\n",
    "    return np.array(window_data)"
   ]
  },
  {
   "cell_type": "code",
   "execution_count": 9,
   "metadata": {
    "collapsed": false
   },
   "outputs": [],
   "source": [
    "window_len=1\n",
    "X_train = window_data(features_train_scaled, window_len=window_len)\n",
    "X_test = window_data(features_test_scaled, window_len=window_len)\n",
    "    \n",
    "y_train = target_train_scaled[window_len:]\n",
    "y_test = target_test_scaled[window_len:]"
   ]
  },
  {
   "cell_type": "code",
   "execution_count": 15,
   "metadata": {
    "collapsed": false
   },
   "outputs": [
    {
     "name": "stdout",
     "output_type": "stream",
     "text": [
      "_________________________________________________________________\n",
      "Layer (type)                 Output Shape              Param #   \n",
      "=================================================================\n",
      "lstm_8 (LSTM)                (None, 1, 256)            275456    \n",
      "_________________________________________________________________\n",
      "dropout_7 (Dropout)          (None, 1, 256)            0         \n",
      "_________________________________________________________________\n",
      "lstm_9 (LSTM)                (None, 1, 56)             70112     \n",
      "_________________________________________________________________\n",
      "dropout_8 (Dropout)          (None, 1, 56)             0         \n",
      "_________________________________________________________________\n",
      "lstm_10 (LSTM)               (None, 30)                10440     \n",
      "_________________________________________________________________\n",
      "dropout_9 (Dropout)          (None, 30)                0         \n",
      "_________________________________________________________________\n",
      "dense_2 (Dense)              (None, 1)                 31        \n",
      "_________________________________________________________________\n",
      "activation_2 (Activation)    (None, 1)                 0         \n",
      "=================================================================\n",
      "Total params: 356,039\n",
      "Trainable params: 356,039\n",
      "Non-trainable params: 0\n",
      "_________________________________________________________________\n"
     ]
    }
   ],
   "source": [
    "model = Sequential()\n",
    "model.add(LSTM(256, return_sequences=True, input_shape=(X_train.shape[1], X_train.shape[2]), activation='tanh'))\n",
    "model.add(Dropout(0.5))\n",
    "model.add(LSTM(56, return_sequences=True, activation='tanh'))\n",
    "model.add(Dropout(0.3))\n",
    "model.add(LSTM(30, activation='tanh'))\n",
    "model.add(Dropout(0.3))\n",
    "model.add(Dense(units=1))\n",
    "model.add(Activation('linear'))\n",
    "model.compile(loss='mse', optimizer='adam')\n",
    "model.summary()\n"
   ]
  },
  {
   "cell_type": "code",
   "execution_count": 16,
   "metadata": {
    "collapsed": false
   },
   "outputs": [
    {
     "name": "stdout",
     "output_type": "stream",
     "text": [
      "Train on 1750 samples, validate on 195 samples\n",
      "Epoch 1/50\n",
      "1750/1750 [==============================] - 2s 1ms/step - loss: 0.0071 - val_loss: 0.0023\n",
      "Epoch 2/50\n",
      "1750/1750 [==============================] - 2s 1ms/step - loss: 0.0016 - val_loss: 7.0510e-04\n",
      "Epoch 3/50\n",
      "1750/1750 [==============================] - 2s 1ms/step - loss: 0.0012 - val_loss: 0.0039\n",
      "Epoch 4/50\n",
      "1750/1750 [==============================] - 2s 973us/step - loss: 0.0012 - val_loss: 4.9756e-04\n",
      "Epoch 5/50\n",
      "1750/1750 [==============================] - 2s 979us/step - loss: 0.0010 - val_loss: 0.0034\n",
      "Epoch 6/50\n",
      "1750/1750 [==============================] - 2s 992us/step - loss: 9.2106e-04 - val_loss: 4.0837e-04\n",
      "Epoch 7/50\n",
      "1750/1750 [==============================] - 2s 1000us/step - loss: 9.4835e-04 - val_loss: 2.8210e-04\n",
      "Epoch 8/50\n",
      "1750/1750 [==============================] - 2s 997us/step - loss: 9.3442e-04 - val_loss: 2.0128e-04\n",
      "Epoch 9/50\n",
      "1750/1750 [==============================] - 2s 1ms/step - loss: 0.0010 - val_loss: 7.2651e-04\n",
      "Epoch 10/50\n",
      "1750/1750 [==============================] - 2s 989us/step - loss: 8.6420e-04 - val_loss: 0.0020\n",
      "Epoch 11/50\n",
      "1750/1750 [==============================] - 2s 983us/step - loss: 0.0011 - val_loss: 0.0010\n",
      "Epoch 12/50\n",
      "1750/1750 [==============================] - 2s 1ms/step - loss: 0.0012 - val_loss: 4.5547e-04\n",
      "Epoch 13/50\n",
      "1750/1750 [==============================] - 2s 996us/step - loss: 0.0010 - val_loss: 6.9805e-04\n",
      "Epoch 14/50\n",
      "1750/1750 [==============================] - 2s 1ms/step - loss: 8.1630e-04 - val_loss: 2.9892e-04\n",
      "Epoch 15/50\n",
      "1750/1750 [==============================] - 2s 1ms/step - loss: 9.3522e-04 - val_loss: 0.0046\n",
      "Epoch 16/50\n",
      "1750/1750 [==============================] - 2s 1ms/step - loss: 8.4193e-04 - val_loss: 1.0035e-04\n",
      "Epoch 17/50\n",
      "1750/1750 [==============================] - 2s 1ms/step - loss: 8.9433e-04 - val_loss: 0.0033\n",
      "Epoch 18/50\n",
      "1750/1750 [==============================] - 2s 1ms/step - loss: 9.4183e-04 - val_loss: 9.7432e-05\n",
      "Epoch 19/50\n",
      "1750/1750 [==============================] - 2s 1ms/step - loss: 0.0010 - val_loss: 1.2585e-04\n",
      "Epoch 20/50\n",
      "1750/1750 [==============================] - 2s 1ms/step - loss: 8.2981e-04 - val_loss: 0.0021\n",
      "Epoch 21/50\n",
      "1750/1750 [==============================] - 2s 1ms/step - loss: 8.2662e-04 - val_loss: 2.4843e-04\n",
      "Epoch 22/50\n",
      "1750/1750 [==============================] - 2s 1ms/step - loss: 9.0986e-04 - val_loss: 2.7206e-04\n",
      "Epoch 23/50\n",
      "1750/1750 [==============================] - 2s 1ms/step - loss: 7.4238e-04 - val_loss: 1.7312e-04\n",
      "Epoch 24/50\n",
      "1750/1750 [==============================] - 2s 1ms/step - loss: 9.9283e-04 - val_loss: 7.5636e-04\n",
      "Epoch 25/50\n",
      "1750/1750 [==============================] - 2s 1ms/step - loss: 0.0010 - val_loss: 7.6538e-05\n",
      "Epoch 26/50\n",
      "1750/1750 [==============================] - 2s 1ms/step - loss: 6.5673e-04 - val_loss: 1.5240e-04\n",
      "Epoch 27/50\n",
      "1750/1750 [==============================] - 2s 1ms/step - loss: 7.3678e-04 - val_loss: 5.2252e-04\n",
      "Epoch 28/50\n",
      "1750/1750 [==============================] - 2s 1ms/step - loss: 7.2586e-04 - val_loss: 9.2400e-05\n",
      "Epoch 29/50\n",
      "1750/1750 [==============================] - 2s 1ms/step - loss: 9.6977e-04 - val_loss: 0.0027\n",
      "Epoch 30/50\n",
      "1750/1750 [==============================] - 2s 1ms/step - loss: 8.3162e-04 - val_loss: 0.0010\n",
      "Epoch 31/50\n",
      "1750/1750 [==============================] - 2s 1ms/step - loss: 8.3020e-04 - val_loss: 4.6977e-04\n",
      "Epoch 32/50\n",
      "1750/1750 [==============================] - 2s 1ms/step - loss: 7.2481e-04 - val_loss: 1.7247e-04\n",
      "Epoch 33/50\n",
      "1750/1750 [==============================] - 3s 1ms/step - loss: 6.2454e-04 - val_loss: 0.0028\n",
      "Epoch 34/50\n",
      "1750/1750 [==============================] - 2s 1ms/step - loss: 7.4746e-04 - val_loss: 0.0020\n",
      "Epoch 35/50\n",
      "1750/1750 [==============================] - 2s 1ms/step - loss: 6.5806e-04 - val_loss: 1.8225e-04\n",
      "Epoch 36/50\n",
      "1750/1750 [==============================] - 2s 1ms/step - loss: 7.4862e-04 - val_loss: 1.5459e-04\n",
      "Epoch 37/50\n",
      "1750/1750 [==============================] - 2s 1ms/step - loss: 8.5259e-04 - val_loss: 0.0022\n",
      "Epoch 38/50\n",
      "1750/1750 [==============================] - 2s 1ms/step - loss: 6.9780e-04 - val_loss: 6.9172e-04\n",
      "Epoch 39/50\n",
      "1750/1750 [==============================] - 2s 1ms/step - loss: 7.8600e-04 - val_loss: 5.3851e-04\n",
      "Epoch 40/50\n",
      "1750/1750 [==============================] - 2s 1ms/step - loss: 8.4961e-04 - val_loss: 7.7779e-04\n",
      "Epoch 41/50\n",
      "1750/1750 [==============================] - 3s 2ms/step - loss: 8.1603e-04 - val_loss: 0.0031\n",
      "Epoch 42/50\n",
      "1750/1750 [==============================] - 3s 1ms/step - loss: 6.9085e-04 - val_loss: 2.2974e-04\n",
      "Epoch 43/50\n",
      "1750/1750 [==============================] - 2s 1ms/step - loss: 7.5099e-04 - val_loss: 6.2928e-04\n",
      "Epoch 44/50\n",
      "1750/1750 [==============================] - 2s 1ms/step - loss: 8.7585e-04 - val_loss: 1.1949e-04\n",
      "Epoch 45/50\n",
      "1750/1750 [==============================] - 2s 1ms/step - loss: 8.9240e-04 - val_loss: 1.5773e-04\n",
      "Epoch 46/50\n",
      "1750/1750 [==============================] - 2s 1ms/step - loss: 6.2223e-04 - val_loss: 6.3653e-05\n",
      "Epoch 47/50\n",
      "1750/1750 [==============================] - 2s 1ms/step - loss: 7.4020e-04 - val_loss: 3.9120e-04\n",
      "Epoch 48/50\n",
      "1750/1750 [==============================] - 2s 1ms/step - loss: 7.3883e-04 - val_loss: 0.0025\n",
      "Epoch 49/50\n",
      "1750/1750 [==============================] - 2s 1ms/step - loss: 9.9781e-04 - val_loss: 3.6599e-04\n",
      "Epoch 50/50\n",
      "1750/1750 [==============================] - 2s 1ms/step - loss: 7.1181e-04 - val_loss: 0.0014\n"
     ]
    }
   ],
   "source": [
    "epochs = 50 #100\n",
    "batch_size=10\n",
    "history = model.fit(X_train, y_train, epochs=epochs, batch_size=batch_size, validation_split=0.1, verbose=1, callbacks=[tensorboard]) #valid=0.2#,shuffle=True"
   ]
  },
  {
   "cell_type": "code",
   "execution_count": 17,
   "metadata": {
    "collapsed": false
   },
   "outputs": [
    {
     "data": {
      "image/png": "[encoded data removed]",
      "text/plain": [
       "<matplotlib.figure.Figure at 0x258561aa208>"
      ]
     },
     "metadata": {},
     "output_type": "display_data"
    }
   ],
   "source": [
    "preds = model.predict(X_test)\n",
    "preds= y_min_max_scaler.inverse_transform(preds)\n",
    "y_test=y_min_max_scaler.inverse_transform(y_test)\n",
    "plt.plot(preds, label='prediction')\n",
    "plt.plot(y_test, label='truth')\n",
    "plt.legend()\n",
    "plt.show()"
   ]
  },
  {
   "cell_type": "code",
   "execution_count": 18,
   "metadata": {
    "collapsed": false
   },
   "outputs": [
    {
     "data": {
      "text/plain": [
       "467.31290059898504"
      ]
     },
     "execution_count": 18,
     "metadata": {},
     "output_type": "execute_result"
    }
   ],
   "source": [
    "np.sqrt(mean_squared_error(y_test,preds))"
   ]
  },
  {
   "cell_type": "code",
   "execution_count": null,
   "metadata": {
    "collapsed": true
   },
   "outputs": [],
   "source": []
  }
 ],
 "metadata": {
  "kernelspec": {
   "display_name": "Python 3",
   "language": "python",
   "name": "python3"
  },
  "language_info": {
   "codemirror_mode": {
    "name": "ipython",
    "version": 3
   },
   "file_extension": ".py",
   "mimetype": "text/x-python",
   "name": "python",
   "nbconvert_exporter": "python",
   "pygments_lexer": "ipython3",
   "version": "3.5.2"
  }
 },
 "nbformat": 4,
 "nbformat_minor": 2
}
